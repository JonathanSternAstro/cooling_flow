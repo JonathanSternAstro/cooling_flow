{
 "cells": [
  {
   "cell_type": "code",
   "execution_count": 1,
   "metadata": {},
   "outputs": [],
   "source": [
    "import sys, os, h5py, numpy as np\n",
    "from numpy import log10 as log\n",
    "from astropy import units as un, constants as cons\n",
    "import pylab as pl\n",
    "\n",
    "CF_path = '../pysrc'\n",
    "sys.path.append(CF_path)\n",
    "import cooling_flow as CF\n",
    "import HaloPotential as Halo\n",
    "import WiersmaCooling as Cool"
   ]
  },
  {
   "cell_type": "markdown",
   "metadata": {},
   "source": [
    "# load vc and Z from simulation"
   ]
  },
  {
   "cell_type": "code",
   "execution_count": 2,
   "metadata": {},
   "outputs": [
    {
     "data": {
      "text/plain": [
       "(['Radius', 'Z_sun', 'T', 'rho'], ['Radius', 'vc'])"
      ]
     },
     "execution_count": 2,
     "metadata": {},
     "output_type": "execute_result"
    }
   ],
   "source": [
    "fn1 = 'data.npz'\n",
    "fn2 = 'data_vc.npz'\n",
    "f1 = np.load(fn1)\n",
    "f2 = np.load(fn2)\n",
    "rvir = 200.*un.kpc\n",
    "f1.files, f2.files"
   ]
  },
  {
   "cell_type": "markdown",
   "metadata": {},
   "source": [
    "# define gravitational potential"
   ]
  },
  {
   "cell_type": "code",
   "execution_count": 3,
   "metadata": {},
   "outputs": [
    {
     "data": {
      "text/plain": [
       "<matplotlib.lines.Line2D at 0x7fd7ab831eb8>"
      ]
     },
     "execution_count": 3,
     "metadata": {},
     "output_type": "execute_result"
    },
    {
     "data": {
      "image/png": "[encoded data removed]",
      "text/plain": [
       "<Figure size 432x288 with 2 Axes>"
      ]
     },
     "metadata": {
      "needs_background": "light"
     },
     "output_type": "display_data"
    }
   ],
   "source": [
    "pl.subplot(211)\n",
    "pl.semilogx(f2['Radius'], f2['vc'])\n",
    "coeffs = pl.polyfit(log(f2['Radius']/rvir.value), log(f2['vc']),10)[::-1]\n",
    "potential = Halo.Polynom(coeffs,rvir)\n",
    "pl.plot(f2['Radius'],potential.vc(f2['Radius']*un.kpc))\n",
    "pl.subplot(212)\n",
    "pl.semilogx(f2['Radius'],potential.dlnvc_dlnR(f2['Radius']*un.kpc),c='k')\n",
    "pl.axhline(0,c='.5',lw=0.7)"
   ]
  },
  {
   "cell_type": "code",
   "execution_count": 4,
   "metadata": {},
   "outputs": [
    {
     "data": {
      "text/plain": [
       "[<matplotlib.lines.Line2D at 0x7fd7ab095208>]"
      ]
     },
     "execution_count": 4,
     "metadata": {},
     "output_type": "execute_result"
    },
    {
     "data": {
      "image/png": "[encoded data removed]",
      "text/plain": [
       "<Figure size 432x288 with 1 Axes>"
      ]
     },
     "metadata": {
      "needs_background": "light"
     },
     "output_type": "display_data"
    }
   ],
   "source": [
    "pl.semilogx(f2['Radius'],potential.Phi(f2['Radius']*un.kpc))"
   ]
  },
  {
   "cell_type": "markdown",
   "metadata": {},
   "source": [
    "# define cooling function"
   ]
  },
  {
   "cell_type": "code",
   "execution_count": 5,
   "metadata": {},
   "outputs": [
    {
     "name": "stderr",
     "output_type": "stream",
     "text": [
      "../pysrc/WiersmaCooling.py:53: RuntimeWarning: invalid value encountered in log10\n",
      "  vals = log(self.LAMBDA(X*un.K,Y*un.cm**-3).value)\n"
     ]
    }
   ],
   "source": [
    "Z = 0.1\n",
    "z = 0\n",
    "cooling = Cool.Wiersma_Cooling(Z,z)"
   ]
  },
  {
   "cell_type": "markdown",
   "metadata": {},
   "source": [
    "# define angular momentum radius and mass inflow rate"
   ]
  },
  {
   "cell_type": "code",
   "execution_count": 6,
   "metadata": {},
   "outputs": [],
   "source": [
    "Rcirc=8*un.kpc\n",
    "Mdot = (4*np.pi*(80*un.kpc)**2*50*un.km/un.s*1e-4*un.cm**-3*cons.m_p/0.7).to('Msun/yr')\n",
    "Mdot = 3*un.Msun/un.yr"
   ]
  },
  {
   "cell_type": "markdown",
   "metadata": {},
   "source": [
    "# integrate solution"
   ]
  },
  {
   "cell_type": "code",
   "execution_count": 7,
   "metadata": {},
   "outputs": [
    {
     "name": "stdout",
     "output_type": "stream",
     "text": [
      "Integrated with log T(R_circ)=4.50, maximum radius reached 14 kpc, stop reason: sonic point\n"
     ]
    },
    {
     "name": "stderr",
     "output_type": "stream",
     "text": [
      "../pysrc/cooling_flow.py:64: RuntimeWarning: overflow encountered in double_scalars\n",
      "  rho,T=e**ln_rho*un.g/un.cm**3, e**ln_T*un.K\n",
      "/home/jonathan/miniconda3/lib/python3.7/site-packages/astropy/units/quantity.py:486: RuntimeWarning: divide by zero encountered in true_divide\n",
      "  result = super().__array_ufunc__(function, method, *arrays, **kwargs)\n",
      "/home/jonathan/miniconda3/lib/python3.7/site-packages/astropy/units/quantity.py:486: RuntimeWarning: invalid value encountered in true_divide\n",
      "  result = super().__array_ufunc__(function, method, *arrays, **kwargs)\n",
      "../pysrc/WiersmaCooling.py:59: RuntimeWarning: divide by zero encountered in log10\n",
      "  return self.f_Cooling((log(T.to('K').value), log(nH.to('cm**-3').value))) * un.erg*un.cm**3/un.s\n",
      "/home/jonathan/miniconda3/lib/python3.7/site-packages/scipy/interpolate/interpolate.py:2507: RuntimeWarning: invalid value encountered in add\n",
      "  values += np.asarray(self.values[edge_indices]) * weight[vslice]\n",
      "/home/jonathan/miniconda3/lib/python3.7/site-packages/astropy/units/quantity.py:486: RuntimeWarning: invalid value encountered in multiply\n",
      "  result = super().__array_ufunc__(function, method, *arrays, **kwargs)\n"
     ]
    },
    {
     "name": "stdout",
     "output_type": "stream",
     "text": [
      "Integrated with log T(R_circ)=4.75, maximum radius reached 24 kpc, stop reason: sonic point\n",
      "Integrated with log T(R_circ)=4.88, maximum radius reached 44 kpc, stop reason: sonic point\n",
      "Integrated with log T(R_circ)=4.94, maximum radius reached 80 kpc, stop reason: sonic point\n",
      "Integrated with log T(R_circ)=4.97, maximum radius reached 143 kpc, stop reason: sonic point\n",
      "Integrated with log T(R_circ)=4.98, maximum radius reached 257 kpc, stop reason: sonic point\n",
      "Integrated with log T(R_circ)=4.99, maximum radius reached 504 kpc, stop reason: sonic point\n",
      "Integrated with log T(R_circ)=5.00, maximum radius reached 799 kpc, stop reason: max R reached\n"
     ]
    }
   ],
   "source": [
    "res = CF.shoot_from_R_circ(potential,\n",
    "                    cooling,\n",
    "                    R_circ=Rcirc,\n",
    "                     Mdot=Mdot,R_max=Rcirc*100,\n",
    "                    pr=True)"
   ]
  },
  {
   "cell_type": "code",
   "execution_count": 8,
   "metadata": {},
   "outputs": [],
   "source": [
    "res.save('1D_steady_state_solution')"
   ]
  },
  {
   "cell_type": "code",
   "execution_count": 9,
   "metadata": {},
   "outputs": [
    {
     "data": {
      "text/plain": [
       "['rs_in_kpc', 'rhos_in_g_to_cm3', 'Ts_in_K', 'vs_in_kms']"
      ]
     },
     "execution_count": 9,
     "metadata": {},
     "output_type": "execute_result"
    }
   ],
   "source": [
    "f3 = np.load('1D_steady_state_solution.npz')\n",
    "f3.files"
   ]
  },
  {
   "cell_type": "code",
   "execution_count": 10,
   "metadata": {},
   "outputs": [
    {
     "name": "stderr",
     "output_type": "stream",
     "text": [
      "/home/jonathan/miniconda3/lib/python3.7/site-packages/ipykernel_launcher.py:16: UserWarning: Attempted to set non-positive bottom ylim on a log-scaled axis.\n",
      "Invalid limit will be ignored.\n",
      "  app.launch_new_instance()\n"
     ]
    },
    {
     "data": {
      "image/png": "[encoded data removed]",
      "text/plain": [
       "<Figure size 360x360 with 3 Axes>"
      ]
     },
     "metadata": {
      "needs_background": "light"
     },
     "output_type": "display_data"
    }
   ],
   "source": [
    "pl.figure(figsize=(5,5))\n",
    "for iPanel in range(3):\n",
    "    pl.subplot(3,1,iPanel+1)\n",
    "    if iPanel==0: \n",
    "        pl.loglog(res.Rs(), res.Ts())\n",
    "        pl.plot([200],f1['T'],'x')\n",
    "        pl.loglog(f3['rs_in_kpc'],f3['Ts_in_K'])\n",
    "    if iPanel==1: \n",
    "        pl.loglog(res.Rs(), res.nHs())\n",
    "        pl.ylim(1e-6,1e1)        \n",
    "        pl.plot([200],0.7*f1['rho']/cons.m_p.to('g'),'x')\n",
    "        pl.loglog(f3['rs_in_kpc'],0.7*f3['rhos_in_g_to_cm3']/cons.m_p.to('g'))\n",
    "    if iPanel==2: \n",
    "        pl.semilogx(res.Rs(), res.vs())\n",
    "        pl.loglog(f3['rs_in_kpc'],f3['vs_in_kms'])\n",
    "        pl.ylim(0,40)\n",
    "        "
   ]
  }
 ],
 "metadata": {
  "kernelspec": {
   "display_name": "Python 3",
   "language": "python",
   "name": "python3"
  },
  "language_info": {
   "codemirror_mode": {
    "name": "ipython",
    "version": 3
   },
   "file_extension": ".py",
   "mimetype": "text/x-python",
   "name": "python",
   "nbconvert_exporter": "python",
   "pygments_lexer": "ipython3",
   "version": "3.7.3"
  }
 },
 "nbformat": 4,
 "nbformat_minor": 2
}

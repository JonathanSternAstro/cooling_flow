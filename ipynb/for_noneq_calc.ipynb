{
 "cells": [
  {
   "cell_type": "code",
   "execution_count": 1,
   "metadata": {},
   "outputs": [],
   "source": [
    "import sys,os,pdb\n",
    "import numpy as np\n",
    "from astropy import units as un, constants as cons\n",
    "sys.path.append('../pysrc')\n",
    "import cooling_flow as CF"
   ]
  },
  {
   "cell_type": "code",
   "execution_count": 19,
   "metadata": {},
   "outputs": [
    {
     "data": {
      "text/plain": [
       "(1, 30)"
      ]
     },
     "execution_count": 19,
     "metadata": {},
     "output_type": "execute_result"
    },
    {
     "data": {
      "image/png": "[encoded data removed]",
      "text/plain": [
       "<Figure size 432x288 with 1 Axes>"
      ]
     },
     "metadata": {
      "needs_background": "light"
     },
     "output_type": "display_data"
    }
   ],
   "source": [
    "xs = 10.**np.arange(-2,2,.001) \n",
    "import pylab as pl\n",
    "pl.semilogx(xs,xs*np.tanh(xs/2)**-1-4) \n",
    "ax = pl.gca()\n",
    "ax.set_yscale('symlog',linthreshy=0.1,linscaley=0.1)\n",
    "pl.xlim(1,30)"
   ]
  },
  {
   "cell_type": "code",
   "execution_count": 16,
   "metadata": {},
   "outputs": [],
   "source": [
    "import matplotlib\n",
    "matplotlib.scale.SymmetricalLogScale?"
   ]
  },
  {
   "cell_type": "code",
   "execution_count": 4,
   "metadata": {},
   "outputs": [],
   "source": [
    "%matplotlib inline"
   ]
  },
  {
   "cell_type": "markdown",
   "metadata": {},
   "source": [
    "#### define cooling function"
   ]
  },
  {
   "cell_type": "code",
   "execution_count": 2,
   "metadata": {},
   "outputs": [],
   "source": [
    "import WiersmaCooling as Cool\n",
    "Z2Zsun = 1/3.\n",
    "z = 0.\n",
    "# cooling = Cool.Wiersma_Cooling(Z2Zsun,z)\n",
    "cooling = Cool.Kartick_Cooling()"
   ]
  },
  {
   "cell_type": "code",
   "execution_count": 2,
   "metadata": {},
   "outputs": [
    {
     "name": "stderr",
     "output_type": "stream",
     "text": [
      "../pysrc/WiersmaCooling.py:53: RuntimeWarning: invalid value encountered in log10\n",
      "  vals = log(self.LAMBDA(X*un.K,Y*un.cm**-3).value)\n"
     ]
    }
   ],
   "source": [
    "import WiersmaCooling as Cool\n",
    "Z2Zsun = 0.05\n",
    "z = 4\n",
    "cooling = Cool.Wiersma_Cooling(Z2Zsun,z)"
   ]
  },
  {
   "cell_type": "code",
   "execution_count": 10,
   "metadata": {},
   "outputs": [
    {
     "name": "stdout",
     "output_type": "stream",
     "text": [
      "0.0374147688381633\n"
     ]
    }
   ],
   "source": [
    "vc = 80*un.km/un.s\n",
    "r = 0.1*64*0.05**(1/3)*un.kpc\n",
    "tff = (r/vc).to('Myr')\n",
    "tcool = cooling.tcool(2.9e5*un.K, 0.13*un.cm**-3).to('Myr') \n",
    "print(tcool/tff)"
   ]
  },
  {
   "cell_type": "markdown",
   "metadata": {},
   "source": [
    "#### define potential"
   ]
  },
  {
   "cell_type": "code",
   "execution_count": 3,
   "metadata": {},
   "outputs": [],
   "source": [
    "import HaloPotential as Halo\n",
    "Rvir = 200*un.kpc\n",
    "Rcirc=10*un.kpc\n",
    "vc = 200*un.km/un.s\n",
    "potential = Halo.PowerLaw_with_AngularMomentum(0,vc,Rvir,Rcirc)\n",
    "#(lMhalo,Mgalaxy,z)"
   ]
  },
  {
   "cell_type": "markdown",
   "metadata": {},
   "source": [
    "## integrate solution with angular momentum"
   ]
  },
  {
   "cell_type": "code",
   "execution_count": 4,
   "metadata": {},
   "outputs": [],
   "source": [
    "spin = 0.035\n",
    "Mdot=1*un.Msun/un.yr          #mass inflow rate\n",
    "max_step = 0.01             #resolution of solution in ln(r)\n",
    "v0 = 0.3*un.km/un.s           #radial velocity at circularization radius\n",
    "R_max = 7.*Rvir              #outer radius of integration"
   ]
  },
  {
   "cell_type": "code",
   "execution_count": 5,
   "metadata": {},
   "outputs": [
    {
     "name": "stdout",
     "output_type": "stream",
     "text": [
      "Integrated with log T(R_circ)=4.50, maximum radius reached 155 kpc, stop reason: unbound\n",
      "Integrated with log T(R_circ)=4.25, maximum radius reached 840 kpc, stop reason: unbound\n"
     ]
    },
    {
     "name": "stderr",
     "output_type": "stream",
     "text": [
      "../pysrc/cooling_flow.py:64: RuntimeWarning: overflow encountered in double_scalars\n",
      "  rho,T=e**ln_rho*un.g/un.cm**3, e**ln_T*un.K\n",
      "/home/jonathan/miniconda3/lib/python3.7/site-packages/astropy/units/quantity.py:486: RuntimeWarning: invalid value encountered in true_divide\n",
      "  result = super().__array_ufunc__(function, method, *arrays, **kwargs)\n",
      "/home/jonathan/miniconda3/lib/python3.7/site-packages/astropy/units/quantity.py:486: RuntimeWarning: divide by zero encountered in true_divide\n",
      "  result = super().__array_ufunc__(function, method, *arrays, **kwargs)\n",
      "../pysrc/WiersmaCooling.py:59: RuntimeWarning: divide by zero encountered in log10\n",
      "  return self.f_Cooling((log(T.to('K').value), log(nH.to('cm**-3').value))) * un.erg*un.cm**3/un.s\n",
      "/home/jonathan/miniconda3/lib/python3.7/site-packages/scipy/interpolate/interpolate.py:2507: RuntimeWarning: invalid value encountered in add\n",
      "  values += np.asarray(self.values[edge_indices]) * weight[vslice]\n",
      "/home/jonathan/miniconda3/lib/python3.7/site-packages/astropy/units/quantity.py:486: RuntimeWarning: invalid value encountered in multiply\n",
      "  result = super().__array_ufunc__(function, method, *arrays, **kwargs)\n"
     ]
    },
    {
     "name": "stdout",
     "output_type": "stream",
     "text": [
      "Integrated with log T(R_circ)=4.12, maximum radius reached 642 kpc, stop reason: sonic point\n",
      "Integrated with log T(R_circ)=4.19, maximum radius reached 1399 kpc, stop reason: max R reached\n"
     ]
    }
   ],
   "source": [
    "res_AM = CF.shoot_from_R_circ(potential,cooling,R_circ=Rcirc,Mdot=Mdot,v0=v0,R_max=R_max,max_step=max_step,pr=True)"
   ]
  },
  {
   "cell_type": "markdown",
   "metadata": {},
   "source": [
    "## plotting"
   ]
  },
  {
   "cell_type": "code",
   "execution_count": 6,
   "metadata": {},
   "outputs": [],
   "source": [
    "import pylab as pl\n",
    "import matplotlib\n",
    "matplotlib.rcParams['mathtext.fontset'] = 'cm'\n",
    "matplotlib.rc('font', family='serif', size=10)\n",
    "matplotlib.rcParams['xtick.direction'] = 'in'\n",
    "matplotlib.rcParams['ytick.direction'] = 'in'\n",
    "matplotlib.rcParams['xtick.top'] = True\n",
    "matplotlib.rcParams['ytick.right'] = True\n",
    "fig_width_half = 3.4"
   ]
  },
  {
   "cell_type": "code",
   "execution_count": 23,
   "metadata": {},
   "outputs": [],
   "source": [
    "vphis = vc*Rcirc/res.Rs()\n",
    "v_abs = (res.vs()**2 + vphis**2)**0.5\n",
    "M_abs = res.Ms() * v_abs/res.vs()\n",
    "Rsonic = np.interp(1,M_abs[::-1],res.Rs()[::-1])"
   ]
  },
  {
   "cell_type": "code",
   "execution_count": 25,
   "metadata": {},
   "outputs": [
    {
     "data": {
      "image/png": "[encoded data removed]",
      "text/plain": [
       "<Figure size 504x504 with 6 Axes>"
      ]
     },
     "metadata": {
      "needs_background": "light"
     },
     "output_type": "display_data"
    }
   ],
   "source": [
    "fig = pl.figure(figsize=(7,7))\n",
    "pl.subplots_adjust(hspace=0.3,wspace=0.4)\n",
    "for iPanel in range(6):\n",
    "    pl.subplot(3,2,iPanel+1)\n",
    "    res = res_AM\n",
    "    if iPanel==0: ys = res.Ts()\n",
    "    if iPanel==1: ys = res.nHs()\n",
    "    if iPanel==2: ys = res.Ms()\n",
    "    if iPanel==3: ys = res.t_cools() / res.t_flows()\n",
    "    if iPanel==4: ys = v_abs\n",
    "    pl.loglog(res.Rs(),ys)\n",
    "    pl.xlim(8,300)\n",
    "    pl.xlabel(r'$r$ [kpc]')\n",
    "    pl.axvline(Rsonic.value,lw=0.5,c='k')\n",
    "    if iPanel==0:\n",
    "        pl.ylabel(r'temperature [K]')\n",
    "        pl.ylim(1e4,3e6)\n",
    "    if iPanel==1: \n",
    "        pl.ylabel(r'hydrogen density [cm$^{-3}$]')\n",
    "        pl.ylim(0.5e-5,0.1)\n",
    "    if iPanel==2:\n",
    "        pl.plot(res.Rs(),ys * v_abs/res.vs(),ls='--')\n",
    "        pl.ylabel(r'mach number')\n",
    "        pl.ylim(0.003,30)\n",
    "        pl.axhline(1.,c='.5',lw=0.5)\n",
    "    if iPanel==3: \n",
    "        pl.ylabel(r'$v_r / (r/t_{\\rm cool})$')\n",
    "        pl.plot(res.Rs(),ys * v_abs/res.vs(),ls='--')\n",
    "        pl.ylim(0.003,30)\n",
    "        pl.axhline(1.,c='.5',lw=0.5)\n",
    "    if iPanel==4: \n",
    "        pl.ylabel(r'$\\sqrt{v_r^2 + v_\\phi^2}$')\n",
    "#         pl.ylim(0.03,3)\n",
    "        pl.axhline(vc.value,c='.5',lw=0.5)\n",
    "# pl.savefig('../figures/solutions_for_noneq_calculation.pdf',bbox_inches='tight')"
   ]
  },
  {
   "cell_type": "code",
   "execution_count": 37,
   "metadata": {},
   "outputs": [],
   "source": [
    "str_AM = 'AM'\n",
    "np.savez('../pyobjs/Mdot%d_vc%d'%(res.Mdot.value,vc.value)+str_AM+'.npz',\n",
    "        nHs=res.nHs().to('cm**-3').value,\n",
    "         Ts=res.Ts().to('K').value,\n",
    "         vs=res.vs().to('km/s').value,\n",
    "         rs=res.Rs().to('kpc').value)"
   ]
  },
  {
   "cell_type": "markdown",
   "metadata": {},
   "source": [
    "## integrate solution without angular momentum"
   ]
  },
  {
   "cell_type": "code",
   "execution_count": 3,
   "metadata": {},
   "outputs": [],
   "source": [
    "import HaloPotential as Halo\n",
    "Rvir = 200*un.kpc\n",
    "vc = 200*un.km/un.s\n",
    "potential = Halo.PowerLaw(0,vc,Rvir)\n"
   ]
  },
  {
   "cell_type": "code",
   "execution_count": 6,
   "metadata": {},
   "outputs": [],
   "source": [
    "R_sonic = 1*un.kpc\n",
    "R_min = 0.1*un.kpc\n",
    "max_step = 0.01             #resolution of solution in ln(r)\n",
    "R_max = 7.*Rvir              #outer radius of integration"
   ]
  },
  {
   "cell_type": "code",
   "execution_count": 7,
   "metadata": {},
   "outputs": [
    {
     "data": {
      "text/plain": [
       "<WiersmaCooling.Kartick_Cooling at 0x7f25273805c0>"
      ]
     },
     "execution_count": 7,
     "metadata": {},
     "output_type": "execute_result"
    }
   ],
   "source": [
    "cooling"
   ]
  },
  {
   "cell_type": "code",
   "execution_count": 8,
   "metadata": {},
   "outputs": [
    {
     "name": "stdout",
     "output_type": "stream",
     "text": [
      "Integrated with v_c^2/c_s^2 (R_sonic) =1.000010;  maximum r=30 kpc; stop reason: unbound\n",
      "Integrated with v_c^2/c_s^2 (R_sonic) =1.500005;  no transsonic solutions\n",
      "Integrated with v_c^2/c_s^2 (R_sonic) =1.250008;  maximum r=10 kpc; stop reason: sonic point\n",
      "Integrated with v_c^2/c_s^2 (R_sonic) =1.125009;  maximum r=136 kpc; stop reason: unbound\n",
      "Integrated with v_c^2/c_s^2 (R_sonic) =1.187508;  maximum r=579 kpc; stop reason: sonic point\n",
      "Integrated with v_c^2/c_s^2 (R_sonic) =1.156258;  maximum r=347 kpc; stop reason: unbound\n",
      "Integrated with v_c^2/c_s^2 (R_sonic) =1.171883;  maximum r=978 kpc; stop reason: unbound\n",
      "Integrated with v_c^2/c_s^2 (R_sonic) =1.179696;  maximum r=1399 kpc; stop reason: max R reached\n",
      "Inward integration of supersonic part reached r = 0.100 kpc\n"
     ]
    }
   ],
   "source": [
    "res_noAM = CF.shoot_from_sonic_point(potential,cooling,\n",
    "                                     R_sonic=R_sonic,R_max=R_max,R_min=R_min,\n",
    "                                     max_step=max_step,pr=True)"
   ]
  },
  {
   "cell_type": "code",
   "execution_count": 9,
   "metadata": {},
   "outputs": [
    {
     "data": {
      "text/latex": [
       "$3.7467356 \\; \\mathrm{\\frac{M_{\\odot}}{yr}}$"
      ],
      "text/plain": [
       "<Quantity 3.74673564 solMass / yr>"
      ]
     },
     "execution_count": 9,
     "metadata": {},
     "output_type": "execute_result"
    }
   ],
   "source": [
    "res=res_noAM\n",
    "res.Mdot"
   ]
  },
  {
   "cell_type": "code",
   "execution_count": 10,
   "metadata": {},
   "outputs": [],
   "source": [
    "str_AM = 'noAM'\n",
    "np.savez('../pyobjs/Mdot%.0f_vc%.0f'%(res.Mdot.value,vc.value)+str_AM+'.npz',\n",
    "        nHs=res.nHs().to('cm**-3').value,\n",
    "         Ts=res.Ts().to('K').value,\n",
    "         vs=res.vs().to('km/s').value,\n",
    "         rs=res.Rs().to('kpc').value)"
   ]
  },
  {
   "cell_type": "code",
   "execution_count": 11,
   "metadata": {},
   "outputs": [],
   "source": [
    "import pylab as pl\n",
    "import matplotlib\n",
    "matplotlib.rcParams['mathtext.fontset'] = 'cm'\n",
    "matplotlib.rc('font', family='serif', size=10)\n",
    "matplotlib.rcParams['xtick.direction'] = 'in'\n",
    "matplotlib.rcParams['ytick.direction'] = 'in'\n",
    "matplotlib.rcParams['xtick.top'] = True\n",
    "matplotlib.rcParams['ytick.right'] = True\n",
    "fig_width_half = 3.4"
   ]
  },
  {
   "cell_type": "code",
   "execution_count": 12,
   "metadata": {},
   "outputs": [
    {
     "data": {
      "image/png": "[encoded data removed]",
      "text/plain": [
       "<Figure size 504x504 with 4 Axes>"
      ]
     },
     "metadata": {
      "needs_background": "light"
     },
     "output_type": "display_data"
    }
   ],
   "source": [
    "fig = pl.figure(figsize=(7,7))\n",
    "pl.subplots_adjust(hspace=0.3,wspace=0.4)\n",
    "for iPanel in range(4):\n",
    "    pl.subplot(2,2,iPanel+1)\n",
    "    res = res_noAM\n",
    "    if iPanel==0: ys = res.Ts()\n",
    "    if iPanel==1: ys = res.nHs()\n",
    "    if iPanel==2: ys = res.Ms()\n",
    "    if iPanel==3: ys = res.t_cools() / res.t_flows()\n",
    "    pl.loglog(res.Rs(),ys)\n",
    "    pl.xlim(0.02,300)\n",
    "    pl.xlabel(r'$r$ [kpc]')\n",
    "    if iPanel==0:\n",
    "        pl.ylabel(r'temperature [K]')\n",
    "        pl.ylim(1e4,3e6)\n",
    "    if iPanel==1: \n",
    "        pl.ylabel(r'hydrogen density [cm$^{-3}$]')\n",
    "        pl.ylim(0.5e-5,10)\n",
    "    if iPanel==2: \n",
    "        pl.ylabel(r'mach number')\n",
    "        pl.ylim(0.003,10)\n",
    "        pl.axhline(1.,c='.5',lw=0.5)\n",
    "    if iPanel==3: \n",
    "        pl.ylabel(r'$v_r / (r/t_{\\rm cool})$')\n",
    "        pl.ylim(0.03,3)\n",
    "        pl.axhline(1.,c='.5',lw=0.5)\n",
    "pl.savefig('../figures/solutions_for_noneq_calculation_noAM.pdf',bbox_inches='tight')"
   ]
  },
  {
   "cell_type": "code",
   "execution_count": null,
   "metadata": {},
   "outputs": [],
   "source": []
  }
 ],
 "metadata": {
  "kernelspec": {
   "display_name": "Python 3",
   "language": "python",
   "name": "python3"
  },
  "language_info": {
   "codemirror_mode": {
    "name": "ipython",
    "version": 3
   },
   "file_extension": ".py",
   "mimetype": "text/x-python",
   "name": "python",
   "nbconvert_exporter": "python",
   "pygments_lexer": "ipython3",
   "version": "3.7.3"
  }
 },
 "nbformat": 4,
 "nbformat_minor": 2
}

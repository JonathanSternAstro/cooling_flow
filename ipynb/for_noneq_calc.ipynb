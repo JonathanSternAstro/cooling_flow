{
 "cells": [
  {
   "cell_type": "code",
   "execution_count": 29,
   "metadata": {},
   "outputs": [],
   "source": [
    "import sys,os,pdb\n",
    "import numpy as np\n",
    "from astropy import units as un, constants as cons\n",
    "sys.path.append('../pysrc')\n",
    "import cooling_flow as CF"
   ]
  },
  {
   "cell_type": "markdown",
   "metadata": {},
   "source": [
    "#### define potential"
   ]
  },
  {
   "cell_type": "code",
   "execution_count": 34,
   "metadata": {},
   "outputs": [],
   "source": [
    "import HaloPotential as Halo\n",
    "Rvir = 200*un.kpc\n",
    "Rcirc=10*un.kpc\n",
    "vc = 200*un.km/un.s\n",
    "potential = Halo.PowerLaw_with_AngularMomentum(0,vc,Rvir,Rcirc)\n",
    "#(lMhalo,Mgalaxy,z)"
   ]
  },
  {
   "cell_type": "markdown",
   "metadata": {},
   "source": [
    "#### define cooling function"
   ]
  },
  {
   "cell_type": "code",
   "execution_count": 3,
   "metadata": {},
   "outputs": [
    {
     "name": "stderr",
     "output_type": "stream",
     "text": [
      "../pysrc/WiersmaCooling.py:53: RuntimeWarning: invalid value encountered in log10\n",
      "  vals = log(self.LAMBDA(X*un.K,Y*un.cm**-3).value)\n"
     ]
    }
   ],
   "source": [
    "import WiersmaCooling as Cool\n",
    "Z2Zsun = 1/3.\n",
    "z = 0.\n",
    "cooling = Cool.Wiersma_Cooling(Z2Zsun,z)"
   ]
  },
  {
   "cell_type": "markdown",
   "metadata": {},
   "source": [
    "## integrate solution with angular momentum"
   ]
  },
  {
   "cell_type": "code",
   "execution_count": 22,
   "metadata": {},
   "outputs": [],
   "source": [
    "spin = 0.035\n",
    "Mdot=1*un.Msun/un.yr          #mass inflow rate\n",
    "max_step = 0.01             #resolution of solution in ln(r)\n",
    "v0 = 0.3*un.km/un.s           #radial velocity at circularization radius\n",
    "R_max = 7.*Rvir              #outer radius of integration"
   ]
  },
  {
   "cell_type": "code",
   "execution_count": 23,
   "metadata": {},
   "outputs": [
    {
     "name": "stdout",
     "output_type": "stream",
     "text": [
      "Integrated with log T(R_circ)=4.50, maximum radius reached 155 kpc, stop reason: unbound\n",
      "Integrated with log T(R_circ)=4.25, maximum radius reached 840 kpc, stop reason: unbound\n"
     ]
    },
    {
     "name": "stderr",
     "output_type": "stream",
     "text": [
      "../pysrc/cooling_flow.py:64: RuntimeWarning: overflow encountered in double_scalars\n",
      "  rho,T=e**ln_rho*un.g/un.cm**3, e**ln_T*un.K\n",
      "/home/jonathan/miniconda3/lib/python3.7/site-packages/astropy/units/quantity.py:486: RuntimeWarning: invalid value encountered in true_divide\n",
      "  result = super().__array_ufunc__(function, method, *arrays, **kwargs)\n",
      "/home/jonathan/miniconda3/lib/python3.7/site-packages/astropy/units/quantity.py:486: RuntimeWarning: divide by zero encountered in true_divide\n",
      "  result = super().__array_ufunc__(function, method, *arrays, **kwargs)\n",
      "../pysrc/WiersmaCooling.py:59: RuntimeWarning: divide by zero encountered in log10\n",
      "  return self.f_Cooling((log(T.to('K').value), log(nH.to('cm**-3').value))) * un.erg*un.cm**3/un.s\n",
      "/home/jonathan/miniconda3/lib/python3.7/site-packages/scipy/interpolate/interpolate.py:2507: RuntimeWarning: invalid value encountered in add\n",
      "  values += np.asarray(self.values[edge_indices]) * weight[vslice]\n",
      "/home/jonathan/miniconda3/lib/python3.7/site-packages/astropy/units/quantity.py:486: RuntimeWarning: invalid value encountered in multiply\n",
      "  result = super().__array_ufunc__(function, method, *arrays, **kwargs)\n"
     ]
    },
    {
     "name": "stdout",
     "output_type": "stream",
     "text": [
      "Integrated with log T(R_circ)=4.12, maximum radius reached 642 kpc, stop reason: sonic point\n",
      "Integrated with log T(R_circ)=4.19, maximum radius reached 1399 kpc, stop reason: max R reached\n"
     ]
    }
   ],
   "source": [
    "res_AM = CF.shoot_from_R_circ(potential,cooling,R_circ=Rcirc,Mdot=Mdot,v0=v0,R_max=R_max,max_step=max_step,pr=True)"
   ]
  },
  {
   "cell_type": "markdown",
   "metadata": {},
   "source": [
    "## plotting"
   ]
  },
  {
   "cell_type": "code",
   "execution_count": 24,
   "metadata": {},
   "outputs": [],
   "source": [
    "import pylab as pl\n",
    "import matplotlib\n",
    "matplotlib.rcParams['mathtext.fontset'] = 'cm'\n",
    "matplotlib.rc('font', family='serif', size=10)\n",
    "matplotlib.rcParams['xtick.direction'] = 'in'\n",
    "matplotlib.rcParams['ytick.direction'] = 'in'\n",
    "matplotlib.rcParams['xtick.top'] = True\n",
    "matplotlib.rcParams['ytick.right'] = True\n",
    "fig_width_half = 3.4"
   ]
  },
  {
   "cell_type": "code",
   "execution_count": 26,
   "metadata": {},
   "outputs": [
    {
     "data": {
      "image/png": "[encoded data removed]",
      "text/plain": [
       "<Figure size 504x504 with 4 Axes>"
      ]
     },
     "metadata": {
      "needs_background": "light"
     },
     "output_type": "display_data"
    }
   ],
   "source": [
    "fig = pl.figure(figsize=(7,7))\n",
    "pl.subplots_adjust(hspace=0.3,wspace=0.4)\n",
    "for iPanel in range(4):\n",
    "    pl.subplot(2,2,iPanel+1)\n",
    "    res = res_AM\n",
    "    if iPanel==0: ys = res.Ts()\n",
    "    if iPanel==1: ys = res.nHs()\n",
    "    if iPanel==2: ys = res.Ms()\n",
    "    if iPanel==3: ys = res.t_cools() / res.t_flows()\n",
    "    pl.loglog(res.Rs(),ys)\n",
    "    pl.xlim(8,300)\n",
    "    pl.xlabel(r'$r$ [kpc]')\n",
    "    if iPanel==0:\n",
    "        pl.ylabel(r'temperature [K]')\n",
    "        pl.ylim(1e4,3e6)\n",
    "    if iPanel==1: \n",
    "        pl.ylabel(r'hydrogen density [cm$^{-3}$]')\n",
    "        pl.ylim(1e-7,0.1)\n",
    "    if iPanel==2: \n",
    "        pl.ylabel(r'mach number')\n",
    "        pl.ylim(0.003,3)\n",
    "        pl.axhline(1.,c='.5',lw=0.5)\n",
    "    if iPanel==3: \n",
    "        pl.ylabel(r'$v_r / (r/t_{\\rm cool})$')\n",
    "        pl.ylim(0.03,3)\n",
    "        pl.axhline(1.,c='.5',lw=0.5)\n",
    "# pl.savefig('output/steady_state_solutions.pdf',bbox_inches='tight')"
   ]
  },
  {
   "cell_type": "code",
   "execution_count": 27,
   "metadata": {},
   "outputs": [],
   "source": [
    "pyobjDir = '../pyobjs/'"
   ]
  },
  {
   "cell_type": "code",
   "execution_count": 31,
   "metadata": {},
   "outputs": [
    {
     "data": {
      "text/plain": [
       "'/home/jonathan/Dropbox/github_repositories/cooling_flow/ipynb'"
      ]
     },
     "execution_count": 31,
     "metadata": {},
     "output_type": "execute_result"
    }
   ],
   "source": [
    "os.getcwd()"
   ]
  },
  {
   "cell_type": "code",
   "execution_count": 36,
   "metadata": {},
   "outputs": [],
   "source": [
    "str_AM = 'AM'\n",
    "np.savez(pyobjDir+'Mdot%d_vc%d'%(res.Mdot.value,vc.value)+str_AM+'.npz',\n",
    "        nHs=res.nHs().to('cm**-3').value,\n",
    "         Ts=res.Ts().to('K').value,\n",
    "         vs=res.vs().to('km/s').value,\n",
    "         rs=res.Rs().to('kpc').value,\n",
    "        Mdot=res.Mdot.to('Msun/yr').value)"
   ]
  }
 ],
 "metadata": {
  "kernelspec": {
   "display_name": "Python 3",
   "language": "python",
   "name": "python3"
  },
  "language_info": {
   "codemirror_mode": {
    "name": "ipython",
    "version": 3
   },
   "file_extension": ".py",
   "mimetype": "text/x-python",
   "name": "python",
   "nbconvert_exporter": "python",
   "pygments_lexer": "ipython3",
   "version": "3.7.3"
  }
 },
 "nbformat": 4,
 "nbformat_minor": 2
}

{
 "cells": [
  {
   "cell_type": "code",
   "execution_count": 1,
   "metadata": {},
   "outputs": [],
   "source": [
    "import sys, pdb\n",
    "from importlib import reload\n",
    "from astropy import units as un, constants as cons\n",
    "from astropy.cosmology import Planck15 as cosmo\n",
    "import numpy as np\n",
    "from numpy import log10 as log\n",
    "sys.path.append('../pysrc/')\n",
    "import GIZMO_ICs as ics"
   ]
  },
  {
   "cell_type": "code",
   "execution_count": 2,
   "metadata": {},
   "outputs": [],
   "source": [
    "import warnings\n",
    "warnings.filterwarnings('ignore')"
   ]
  },
  {
   "cell_type": "markdown",
   "metadata": {},
   "source": [
    "## steps\n",
    "* choose grid parameters below\n",
    "* MakeDisk\n",
    "    * change parameters (e.g. resolution) in ../MakeDisk_wHalo_m11_lr/main.c\n",
    "    * compile with make\n",
    "    * run ./MakeHubbleType ICs/m11_no_halo_#vc#_res#2e4#_fgas#05#.ic\n",
    "* create output files using script below"
   ]
  },
  {
   "cell_type": "markdown",
   "metadata": {},
   "source": [
    "### first grid run (July 2021)"
   ]
  },
  {
   "cell_type": "code",
   "execution_count": 3,
   "metadata": {
    "scrolled": true
   },
   "outputs": [
    {
     "name": "stdout",
     "output_type": "stream",
     "text": [
      "v_c=100, R_sonic=0.3, Z=0.03, log nH(10 kpc)=-3.09, Mdot=0.535\n",
      "R_circ=1 kpc, r(t_cool=10Gyr) = 61 kpc, r(t_sc=20Gyr) = 1781 kpc\n",
      "Part0 num=155722, w/o CGM=25000, |<r>|=1.3 , |<v>|=0.2 , <j>=-0.1 -1.3 189.4,Ms: 8e+04 8e+04 1.6e+05... 8.2e+07\n",
      "Part2 num=125000, |<r>|=0.0 , |<v>|=0.3 , <j>=0.1 -0.0 656.8,Ms: 8e+04\n",
      "Part3 num=25000, |<r>|=0.1 , |<v>|=0.7 , <j>=-5.9 -1.6 -0.3,Ms: 8e+04\n",
      "Part5 num=1, |<r>|=0.0 , |<v>|=0.0 , <j>=0.0 0.0 0.0,Ms: 2e+08\n",
      "R_circ=10 kpc, r(t_cool=10Gyr) = 61 kpc, r(t_sc=20Gyr) = 1781 kpc\n",
      "Part0 num=155722, w/o CGM=25000, |<r>|=1.2 , |<v>|=0.2 , <j>=-0.5 -5.1 927.6,Ms: 8e+04 8e+04 1.6e+05... 8.2e+07\n",
      "Part2 num=125000, |<r>|=0.0 , |<v>|=0.3 , <j>=0.1 -0.0 656.8,Ms: 8e+04\n",
      "Part3 num=25000, |<r>|=0.1 , |<v>|=0.7 , <j>=-5.9 -1.6 -0.3,Ms: 8e+04\n",
      "Part5 num=1, |<r>|=0.0 , |<v>|=0.0 , <j>=0.0 0.0 0.0,Ms: 2e+08\n",
      "\n",
      "v_c=100, R_sonic=0.3, Z=0.30, log nH(10 kpc)=-3.75, Mdot=0.110\n",
      "R_circ=1 kpc, r(t_cool=10Gyr) = 55 kpc, r(t_sc=20Gyr) = 1730 kpc\n",
      "Part0 num=55191, w/o CGM=25000, |<r>|=0.8 , |<v>|=0.6 , <j>=-0.1 0.0 352.4,Ms: 8e+04 8e+04 1.6e+05... 8.2e+07\n",
      "Part2 num=125000, |<r>|=0.0 , |<v>|=0.3 , <j>=0.1 -0.0 656.8,Ms: 8e+04\n",
      "Part3 num=25000, |<r>|=0.1 , |<v>|=0.7 , <j>=-5.9 -1.6 -0.3,Ms: 8e+04\n",
      "Part5 num=1, |<r>|=0.0 , |<v>|=0.0 , <j>=0.0 0.0 0.0,Ms: 2e+08\n",
      "R_circ=10 kpc, r(t_cool=10Gyr) = 55 kpc, r(t_sc=20Gyr) = 1730 kpc\n",
      "Part0 num=55191, w/o CGM=25000, |<r>|=1.3 , |<v>|=0.7 , <j>=-4.8 4.0 834.4,Ms: 8e+04 8e+04 1.6e+05... 8.2e+07\n",
      "Part2 num=125000, |<r>|=0.0 , |<v>|=0.3 , <j>=0.1 -0.0 656.8,Ms: 8e+04\n",
      "Part3 num=25000, |<r>|=0.1 , |<v>|=0.7 , <j>=-5.9 -1.6 -0.3,Ms: 8e+04\n",
      "Part5 num=1, |<r>|=0.0 , |<v>|=0.0 , <j>=0.0 0.0 0.0,Ms: 2e+08\n",
      "\n",
      "v_c=100, R_sonic=3.0, Z=0.30, log nH(10 kpc)=-3.27, Mdot=1.121\n",
      "R_circ=1 kpc, r(t_cool=10Gyr) = 120 kpc, r(t_sc=20Gyr) = 1911 kpc\n",
      "Part0 num=311776, w/o CGM=25000, |<r>|=0.4 , |<v>|=0.1 , <j>=-0.2 -0.4 144.7,Ms: 8e+04 8e+04 1.6e+05... 2e+07\n",
      "Part2 num=125000, |<r>|=0.0 , |<v>|=0.3 , <j>=0.1 -0.0 656.8,Ms: 8e+04\n",
      "Part3 num=25000, |<r>|=0.1 , |<v>|=0.7 , <j>=-5.9 -1.6 -0.3,Ms: 8e+04\n",
      "Part5 num=1, |<r>|=0.0 , |<v>|=0.0 , <j>=0.0 0.0 0.0,Ms: 2e+08\n",
      "R_circ=10 kpc, r(t_cool=10Gyr) = 120 kpc, r(t_sc=20Gyr) = 1911 kpc\n",
      "Part0 num=311776, w/o CGM=25000, |<r>|=0.9 , |<v>|=0.1 , <j>=-2.0 -0.9 966.6,Ms: 8e+04 8e+04 1.6e+05... 2e+07\n",
      "Part2 num=125000, |<r>|=0.0 , |<v>|=0.3 , <j>=0.1 -0.0 656.8,Ms: 8e+04\n",
      "Part3 num=25000, |<r>|=0.1 , |<v>|=0.7 , <j>=-5.9 -1.6 -0.3,Ms: 8e+04\n",
      "Part5 num=1, |<r>|=0.0 , |<v>|=0.0 , <j>=0.0 0.0 0.0,Ms: 2e+08\n",
      "\n",
      "v_c=100, R_sonic=3.0, Z=3.00, log nH(10 kpc)=-4.21, Mdot=0.137\n",
      "R_circ=1 kpc, r(t_cool=10Gyr) = 84 kpc, r(t_sc=20Gyr) = 1985 kpc\n",
      "Part0 num=59103, w/o CGM=25000, |<r>|=2.8 , |<v>|=0.6 , <j>=-0.0 -0.7 335.7,Ms: 8e+04 8e+04 1.6e+05... 8.2e+07\n",
      "Part2 num=125000, |<r>|=0.0 , |<v>|=0.3 , <j>=0.1 -0.0 656.8,Ms: 8e+04\n",
      "Part3 num=25000, |<r>|=0.1 , |<v>|=0.7 , <j>=-5.9 -1.6 -0.3,Ms: 8e+04\n",
      "Part5 num=1, |<r>|=0.0 , |<v>|=0.0 , <j>=0.0 0.0 0.0,Ms: 2e+08\n",
      "R_circ=10 kpc, r(t_cool=10Gyr) = 84 kpc, r(t_sc=20Gyr) = 1985 kpc\n",
      "Part0 num=59103, w/o CGM=25000, |<r>|=1.6 , |<v>|=0.5 , <j>=-5.9 -2.4 850.4,Ms: 8e+04 8e+04 1.6e+05... 8.2e+07\n",
      "Part2 num=125000, |<r>|=0.0 , |<v>|=0.3 , <j>=0.1 -0.0 656.8,Ms: 8e+04\n",
      "Part3 num=25000, |<r>|=0.1 , |<v>|=0.7 , <j>=-5.9 -1.6 -0.3,Ms: 8e+04\n",
      "Part5 num=1, |<r>|=0.0 , |<v>|=0.0 , <j>=0.0 0.0 0.0,Ms: 2e+08\n",
      "\n",
      "v_c=100, R_sonic=30.0, Z=3.00, log nH(10 kpc)=-3.71, Mdot=1.730\n",
      "R_circ=1 kpc, r(t_cool=10Gyr) = 199 kpc, r(t_sc=20Gyr) = 2207 kpc\n",
      "Part0 num=402148, w/o CGM=25000, |<r>|=1.5 , |<v>|=0.1 , <j>=-0.2 0.3 134.6,Ms: 8e+04 8e+04 1.6e+05... 1e+07\n",
      "Part2 num=125000, |<r>|=0.0 , |<v>|=0.3 , <j>=0.1 -0.0 656.8,Ms: 8e+04\n",
      "Part3 num=25000, |<r>|=0.1 , |<v>|=0.7 , <j>=-5.9 -1.6 -0.3,Ms: 8e+04\n",
      "Part5 num=1, |<r>|=0.0 , |<v>|=0.0 , <j>=0.0 0.0 0.0,Ms: 2e+08\n",
      "R_circ=10 kpc, r(t_cool=10Gyr) = 199 kpc, r(t_sc=20Gyr) = 2207 kpc\n",
      "Part0 num=402148, w/o CGM=25000, |<r>|=1.1 , |<v>|=0.1 , <j>=-0.1 -0.3 976.4,Ms: 8e+04 8e+04 1.6e+05... 1e+07\n",
      "Part2 num=125000, |<r>|=0.0 , |<v>|=0.3 , <j>=0.1 -0.0 656.8,Ms: 8e+04\n",
      "Part3 num=25000, |<r>|=0.1 , |<v>|=0.7 , <j>=-5.9 -1.6 -0.3,Ms: 8e+04\n",
      "Part5 num=1, |<r>|=0.0 , |<v>|=0.0 , <j>=0.0 0.0 0.0,Ms: 2e+08\n",
      "\n",
      "v_c=100, R_sonic=30.0, Z=30.00,no result reached maximum R, try rerunning with return_all_results=True and check intermediate solutions\n",
      "\n",
      "v_c=150, R_sonic=0.3, Z=0.03, log nH(10 kpc)=-2.44, Mdot=3.860\n",
      "R_circ=1 kpc, r(t_cool=10Gyr) = 83 kpc, r(t_sc=20Gyr) = 2656 kpc\n",
      "Part0 num=953614, w/o CGM=25000, |<r>|=0.6 , |<v>|=0.0 , <j>=-0.0 0.2 168.6,Ms: 8e+04 8e+04 1.6e+05... 8.2e+07\n",
      "Part2 num=125000, |<r>|=0.0 , |<v>|=0.4 , <j>=0.1 -0.0 862.7,Ms: 8e+04\n",
      "Part3 num=25000, |<r>|=0.1 , |<v>|=0.5 , <j>=10.1 11.9 6.5,Ms: 8e+04\n",
      "Part5 num=1, |<r>|=0.0 , |<v>|=0.0 , <j>=0.0 0.0 0.0,Ms: 2e+08\n",
      "R_circ=10 kpc, r(t_cool=10Gyr) = 83 kpc, r(t_sc=20Gyr) = 2656 kpc\n",
      "Part0 num=953614, w/o CGM=25000, |<r>|=0.6 , |<v>|=0.1 , <j>=-0.4 -0.5 1463.2,Ms: 8e+04 8e+04 1.6e+05... 8.2e+07\n",
      "Part2 num=125000, |<r>|=0.0 , |<v>|=0.4 , <j>=0.1 -0.0 862.7,Ms: 8e+04\n",
      "Part3 num=25000, |<r>|=0.1 , |<v>|=0.5 , <j>=10.1 11.9 6.5,Ms: 8e+04\n",
      "Part5 num=1, |<r>|=0.0 , |<v>|=0.0 , <j>=0.0 0.0 0.0,Ms: 2e+08\n",
      "\n",
      "v_c=150, R_sonic=0.3, Z=0.30, log nH(10 kpc)=-3.15, Mdot=0.745\n",
      "R_circ=1 kpc, r(t_cool=10Gyr) = 80 kpc, r(t_sc=20Gyr) = 2539 kpc\n",
      "Part0 num=217958, w/o CGM=25000, |<r>|=0.5 , |<v>|=0.2 , <j>=-0.3 0.2 231.8,Ms: 8e+04 8e+04 1.6e+05... 8.2e+07\n",
      "Part2 num=125000, |<r>|=0.0 , |<v>|=0.4 , <j>=0.1 -0.0 862.7,Ms: 8e+04\n",
      "Part3 num=25000, |<r>|=0.1 , |<v>|=0.5 , <j>=10.1 11.9 6.5,Ms: 8e+04\n",
      "Part5 num=1, |<r>|=0.0 , |<v>|=0.0 , <j>=0.0 0.0 0.0,Ms: 2e+08\n",
      "R_circ=10 kpc, r(t_cool=10Gyr) = 80 kpc, r(t_sc=20Gyr) = 2539 kpc\n",
      "Part0 num=217958, w/o CGM=25000, |<r>|=0.8 , |<v>|=0.3 , <j>=0.7 -3.5 1410.0,Ms: 8e+04 8e+04 1.6e+05... 8.2e+07\n",
      "Part2 num=125000, |<r>|=0.0 , |<v>|=0.4 , <j>=0.1 -0.0 862.7,Ms: 8e+04\n",
      "Part3 num=25000, |<r>|=0.1 , |<v>|=0.5 , <j>=10.1 11.9 6.5,Ms: 8e+04\n",
      "Part5 num=1, |<r>|=0.0 , |<v>|=0.0 , <j>=0.0 0.0 0.0,Ms: 2e+08\n",
      "\n",
      "v_c=150, R_sonic=3.0, Z=0.30, log nH(10 kpc)=-2.66, Mdot=7.470\n",
      "R_circ=1 kpc, r(t_cool=10Gyr) = 174 kpc, r(t_sc=20Gyr) = 2741 kpc\n",
      "Part0 num=1826484, w/o CGM=25000, |<r>|=1.0 , |<v>|=0.0 , <j>=-0.1 -0.1 159.7,Ms: 8e+04 8e+04 1.6e+05... 2e+07\n",
      "Part2 num=125000, |<r>|=0.0 , |<v>|=0.4 , <j>=0.1 -0.0 862.7,Ms: 8e+04\n",
      "Part3 num=25000, |<r>|=0.1 , |<v>|=0.5 , <j>=10.1 11.9 6.5,Ms: 8e+04\n",
      "Part5 num=1, |<r>|=0.0 , |<v>|=0.0 , <j>=0.0 0.0 0.0,Ms: 2e+08\n",
      "R_circ=10 kpc, r(t_cool=10Gyr) = 174 kpc, r(t_sc=20Gyr) = 2741 kpc\n",
      "Part0 num=1826484, w/o CGM=25000, |<r>|=0.2 , |<v>|=0.0 , <j>=-0.9 -1.7 1484.6,Ms: 8e+04 8e+04 1.6e+05... 2e+07\n",
      "Part2 num=125000, |<r>|=0.0 , |<v>|=0.4 , <j>=0.1 -0.0 862.7,Ms: 8e+04\n",
      "Part3 num=25000, |<r>|=0.1 , |<v>|=0.5 , <j>=10.1 11.9 6.5,Ms: 8e+04\n",
      "Part5 num=1, |<r>|=0.0 , |<v>|=0.0 , <j>=0.0 0.0 0.0,Ms: 2e+08\n",
      "\n",
      "v_c=150, R_sonic=3.0, Z=3.00, log nH(10 kpc)=-3.60, Mdot=0.841\n",
      "R_circ=1 kpc, r(t_cool=10Gyr) = 152 kpc, r(t_sc=20Gyr) = 2652 kpc\n",
      "Part0 num=261430, w/o CGM=25000, |<r>|=1.8 , |<v>|=0.2 , <j>=0.6 0.0 218.2,Ms: 8e+04 8e+04 1.6e+05... 4.1e+07\n",
      "Part2 num=125000, |<r>|=0.0 , |<v>|=0.4 , <j>=0.1 -0.0 862.7,Ms: 8e+04\n",
      "Part3 num=25000, |<r>|=0.1 , |<v>|=0.5 , <j>=10.1 11.9 6.5,Ms: 8e+04\n",
      "Part5 num=1, |<r>|=0.0 , |<v>|=0.0 , <j>=0.0 0.0 0.0,Ms: 2e+08\n",
      "R_circ=10 kpc, r(t_cool=10Gyr) = 152 kpc, r(t_sc=20Gyr) = 2652 kpc\n",
      "Part0 num=261430, w/o CGM=25000, |<r>|=2.0 , |<v>|=0.2 , <j>=1.2 1.9 1433.7,Ms: 8e+04 8e+04 1.6e+05... 4.1e+07\n",
      "Part2 num=125000, |<r>|=0.0 , |<v>|=0.4 , <j>=0.1 -0.0 862.7,Ms: 8e+04\n",
      "Part3 num=25000, |<r>|=0.1 , |<v>|=0.5 , <j>=10.1 11.9 6.5,Ms: 8e+04\n",
      "Part5 num=1, |<r>|=0.0 , |<v>|=0.0 , <j>=0.0 0.0 0.0,Ms: 2e+08\n",
      "\n",
      "v_c=150, R_sonic=30.0, Z=3.00, log nH(10 kpc)=-3.10, Mdot=8.919\n",
      "R_circ=1 kpc, r(t_cool=10Gyr) = 338 kpc, r(t_sc=20Gyr) = 2911 kpc\n",
      "Part0 num=2184706, w/o CGM=25000, |<r>|=0.4 , |<v>|=0.0 , <j>=-0.2 -0.1 158.2,Ms: 8e+04 8e+04 1.6e+05... 1e+07\n",
      "Part2 num=125000, |<r>|=0.0 , |<v>|=0.4 , <j>=0.1 -0.0 862.7,Ms: 8e+04\n",
      "Part3 num=25000, |<r>|=0.1 , |<v>|=0.5 , <j>=10.1 11.9 6.5,Ms: 8e+04\n",
      "Part5 num=1, |<r>|=0.0 , |<v>|=0.0 , <j>=0.0 0.0 0.0,Ms: 2e+08\n",
      "R_circ=10 kpc, r(t_cool=10Gyr) = 338 kpc, r(t_sc=20Gyr) = 2911 kpc\n",
      "Part0 num=2184706, w/o CGM=25000, |<r>|=0.5 , |<v>|=0.1 , <j>=0.6 0.7 1490.4,Ms: 8e+04 8e+04 1.6e+05... 1e+07\n",
      "Part2 num=125000, |<r>|=0.0 , |<v>|=0.4 , <j>=0.1 -0.0 862.7,Ms: 8e+04\n",
      "Part3 num=25000, |<r>|=0.1 , |<v>|=0.5 , <j>=10.1 11.9 6.5,Ms: 8e+04\n",
      "Part5 num=1, |<r>|=0.0 , |<v>|=0.0 , <j>=0.0 0.0 0.0,Ms: 2e+08\n",
      "\n"
     ]
    },
    {
     "name": "stdout",
     "output_type": "stream",
     "text": [
      "v_c=150, R_sonic=30.0, Z=30.00,no result reached maximum R, try rerunning with return_all_results=True and check intermediate solutions\n",
      "\n"
     ]
    }
   ],
   "source": [
    "vcs = np.array([100,150])*un.km/un.s\n",
    "Rsonics = np.array([0.3,3,30])*un.kpc\n",
    "Zs = np.array([0.3,3.])\n",
    "Rcircs = np.array([1,10])*un.kpc\n",
    "\n",
    "for vc in vcs[:]:    \n",
    "    for i,Rsonic in enumerate(Rsonics):\n",
    "        for base_Z in Zs:\n",
    "            Z = base_Z*Rsonics[i]/Rsonics[1] # to keep Mdot roughly equal\n",
    "            base_instance = ics.ICs(vc,Rcircs[0],Rsonic,Z)\n",
    "            print('v_c=%d, R_sonic=%.1f, Z=%.2f'%(vc.value,Rsonic.value,Z),end=',')\n",
    "            base_instance.calc_CF_solution(pr=False)\n",
    "            if base_instance.CF_solution!=None:\n",
    "                log_nH = log(base_instance.CF_solution.nHs()[base_instance.CF_solution.Rs()>Rcircs[1]][0].value)\n",
    "                print(' log nH(10 kpc)=%.2f, Mdot=%.3f'%(log_nH,base_instance.CF_solution.Mdot.value))\n",
    "                for Rcirc in Rcircs[:]:\n",
    "                    print('R_circ=%d kpc'%Rcirc.value,end=',')\n",
    "                    instance = ics.ICs(ics=base_instance)\n",
    "                    instance.Rcirc = Rcirc\n",
    "                    instance.create_output_files()\n",
    "            print('')"
   ]
  },
  {
   "cell_type": "markdown",
   "metadata": {},
   "source": [
    "### second grid run (Oct 1st 2021)"
   ]
  },
  {
   "cell_type": "code",
   "execution_count": null,
   "metadata": {
    "scrolled": false
   },
   "outputs": [],
   "source": [
    "vcs = np.array([75,100,150])*un.km/un.s\n",
    "Rsonics = np.array([100,300])*un.kpc\n",
    "Zs = np.array([1.,3.])\n",
    "Rcircs = np.array([10])*un.kpc\n",
    "for vc in vcs[:]:    \n",
    "    for Rsonic in Rsonics[:]:\n",
    "        for Z in Zs[:]:\n",
    "            base_instance = ics.ICs(vc,Rcircs[0],Rsonic,Z)\n",
    "            print('v_c=%d, R_sonic=%.1f, Z=%.2f'%(vc.value,Rsonic.value,Z),end=',')\n",
    "            base_instance.calc_CF_solution(pr=True)\n",
    "            if base_instance.CF_solution!=None:\n",
    "                log_nH = log(base_instance.CF_solution.nHs()[base_instance.CF_solution.Rs()>Rcircs[0]][0].value)\n",
    "                print(' log nH(10 kpc)=%.2f, Mdot=%.3f'%(log_nH,base_instance.CF_solution.Mdot.value))\n",
    "                for Rcirc in Rcircs[:]:\n",
    "                    print('R_circ=%d kpc'%Rcirc.value,end=',')\n",
    "                    instance = ics.ICs(ics=base_instance)\n",
    "                    instance.Rcirc = Rcirc\n",
    "                    instance.create_output_files()\n",
    "            print('')            "
   ]
  },
  {
   "cell_type": "markdown",
   "metadata": {},
   "source": [
    "#### only the following succeed:\n",
    "* vc75_Rs100_Mdot4339_Rcirc10\n",
    "* vc75_Rs300_Mdot19036_Rcirc10\n",
    "* vc100_Rs100_Mdot7107_Rcirc10\n",
    "* vc100_Rs300_Mdot27474_Rcirc10\n",
    "* vc100_Rs100_Mdot15755_Rcirc10\n",
    "* vc150_Rs100_Mdot31948_Rcirc10"
   ]
  },
  {
   "cell_type": "markdown",
   "metadata": {},
   "source": [
    "### with and without CGM, with fgas_disk=0.2-0.5. similar to vc150_Rs0_Mdot745_Rcirc10"
   ]
  },
  {
   "cell_type": "code",
   "execution_count": 3,
   "metadata": {
    "scrolled": true
   },
   "outputs": [
    {
     "name": "stdout",
     "output_type": "stream",
     "text": [
      "v_c=150, R_sonic=0.3, Z=0.30, f_gas=0.2\n",
      "Integrated with v_c^2/c_s^2 (R_sonic) =1.000010;  maximum r=10 kpc; stop reason: unbound\n",
      "Integrated with v_c^2/c_s^2 (R_sonic) =1.500005;  no transsonic solutions\n",
      "Integrated with v_c^2/c_s^2 (R_sonic) =1.250008;  maximum r=3 kpc; stop reason: sonic point\n",
      "Integrated with v_c^2/c_s^2 (R_sonic) =1.125009;  maximum r=30 kpc; stop reason: unbound\n",
      "Integrated with v_c^2/c_s^2 (R_sonic) =1.187508;  maximum r=168 kpc; stop reason: unbound\n",
      "Integrated with v_c^2/c_s^2 (R_sonic) =1.218758;  maximum r=15 kpc; stop reason: sonic point\n",
      "Integrated with v_c^2/c_s^2 (R_sonic) =1.203133;  maximum r=153 kpc; stop reason: sonic point\n",
      "Integrated with v_c^2/c_s^2 (R_sonic) =1.195321;  maximum r=406 kpc; stop reason: unbound\n",
      "Integrated with v_c^2/c_s^2 (R_sonic) =1.199227;  maximum r=3525 kpc; stop reason: sonic point\n",
      "Integrated with v_c^2/c_s^2 (R_sonic) =1.197274;  maximum r=683 kpc; stop reason: unbound\n",
      "Integrated with v_c^2/c_s^2 (R_sonic) =1.198250;  maximum r=1157 kpc; stop reason: unbound\n",
      "Integrated with v_c^2/c_s^2 (R_sonic) =1.198738;  maximum r=2194 kpc; stop reason: unbound\n",
      "Integrated with v_c^2/c_s^2 (R_sonic) =1.198983;  maximum r=3999 kpc; stop reason: max R reached\n",
      "Inward integration of supersonic part reached r = 0.300 kpc\n",
      " log nH(10 kpc)=-3.15, Mdot=0.745\n",
      "../MakeDisk_wHalo_m11_lr/ICs/m11_no_halo_150_res2e4_fgas02.ic\n",
      " 1r(t_cool=10Gyr) = 80 kpc, r(t_sc=20Gyr) = 2807 kpc\n",
      "Part0 num=506043, w/o CGM=100000, |<r>|=0.2, |<v>|=0.2, <j>=0.0 -4.3 1341.8,Ms: 2e+04 2e+04 6e+04... 3.6e+09\n",
      "Part2 num=500000, |<r>|=0.0, |<v>|=0.1, <j>=0.2 -0.1 845.9,Ms: 2e+04\n",
      "Part3 num=10000, |<r>|=0.1, |<v>|=1.4, <j>=-4.2 2.4 -6.7,Ms: 2e+04\n",
      "Part5 num=1, |<r>|=0.0, |<v>|=0.0, <j>=0.0 0.0 0.0,Ms: 2e+06\n",
      "\n",
      "v_c=150, R_sonic=0.0, Z=0.30, f_gas=0.2\n",
      "Integrated with v_c^2/c_s^2 (R_sonic) =1.000010;  maximum r=0 kpc; stop reason: unbound\n",
      "Integrated with v_c^2/c_s^2 (R_sonic) =1.500005;  no transsonic solutions\n",
      "Integrated with v_c^2/c_s^2 (R_sonic) =1.250008;  maximum r=0 kpc; stop reason: sonic point\n",
      "Integrated with v_c^2/c_s^2 (R_sonic) =1.125009;  maximum r=0 kpc; stop reason: unbound\n",
      "Integrated with v_c^2/c_s^2 (R_sonic) =1.187508;  maximum r=0 kpc; stop reason: unbound\n",
      "Integrated with v_c^2/c_s^2 (R_sonic) =1.218758;  maximum r=0 kpc; stop reason: sonic point\n",
      "Integrated with v_c^2/c_s^2 (R_sonic) =1.203133;  maximum r=0 kpc; stop reason: sonic point\n",
      "Integrated with v_c^2/c_s^2 (R_sonic) =1.195321;  maximum r=0 kpc; stop reason: unbound\n",
      "Integrated with v_c^2/c_s^2 (R_sonic) =1.199227;  maximum r=5 kpc; stop reason: unbound\n",
      "Integrated with v_c^2/c_s^2 (R_sonic) =1.201180;  maximum r=0 kpc; stop reason: sonic point\n",
      "Integrated with v_c^2/c_s^2 (R_sonic) =1.200203;  maximum r=0 kpc; stop reason: sonic point\n",
      "Integrated with v_c^2/c_s^2 (R_sonic) =1.199715;  maximum r=0 kpc; stop reason: sonic point\n",
      "Integrated with v_c^2/c_s^2 (R_sonic) =1.199471;  maximum r=15 kpc; stop reason: lowT\n",
      "Integrated with v_c^2/c_s^2 (R_sonic) =1.199349;  maximum r=11 kpc; stop reason: unbound\n",
      "Integrated with v_c^2/c_s^2 (R_sonic) =1.199410;  maximum r=27 kpc; stop reason: unbound\n",
      "Integrated with v_c^2/c_s^2 (R_sonic) =1.199440;  maximum r=72 kpc; stop reason: unbound\n",
      "Integrated with v_c^2/c_s^2 (R_sonic) =1.199456;  maximum r=119 kpc; stop reason: lowT\n",
      "Integrated with v_c^2/c_s^2 (R_sonic) =1.199448;  maximum r=128 kpc; stop reason: unbound\n",
      "Integrated with v_c^2/c_s^2 (R_sonic) =1.199452;  maximum r=257 kpc; stop reason: unbound\n",
      "Integrated with v_c^2/c_s^2 (R_sonic) =1.199454;  maximum r=353 kpc; stop reason: lowT\n",
      "Integrated with v_c^2/c_s^2 (R_sonic) =1.199453;  maximum r=439 kpc; stop reason: unbound\n",
      "Integrated with v_c^2/c_s^2 (R_sonic) =1.199453;  maximum r=3999 kpc; stop reason: max R reached\n",
      "Inward integration of supersonic part reached r = 0.000 kpc\n",
      " log nH(10 kpc)=-5.10, Mdot=0.000\n",
      "../MakeDisk_wHalo_m11_lr/ICs/m11_no_halo_150_res2e4_fgas02.ic\n",
      " 1r(t_cool=10Gyr) = 4 kpc, r(t_sc=20Gyr) = 2585 kpc\n",
      "Part0 num=100037, w/o CGM=100000, |<r>|=0.0, |<v>|=1.0, <j>=-0.0 -0.1 844.4,Ms: 2e+04 2e+04 6.1e+04... 1.8e+06\n",
      "Part2 num=500000, |<r>|=0.0, |<v>|=0.1, <j>=0.2 -0.1 845.9,Ms: 2e+04\n",
      "Part3 num=10000, |<r>|=0.1, |<v>|=1.4, <j>=-4.2 2.4 -6.7,Ms: 2e+04\n",
      "Part5 num=1, |<r>|=0.0, |<v>|=0.0, <j>=0.0 0.0 0.0,Ms: 2e+06\n",
      "\n"
     ]
    }
   ],
   "source": [
    "ics.ICs.R_max=4000*un.kpc\n",
    "vc = 150*un.km/un.s\n",
    "Rsonics = np.array([0.3,0.00003])[:]*un.kpc\n",
    "Z = 0.3\n",
    "Rcirc = 10*un.kpc\n",
    "resolution = 2e4*un.Msun #1e3*un.Msun #\n",
    "instances = [None]*len(Rsonics)\n",
    "for fgas in (0.2,0.3,0.4,0.5)[:1]:\n",
    "    for i,Rsonic in enumerate(Rsonics):\n",
    "        instance = instances[i] = ics.ICs(vc,Rcirc,Rsonic,Z,fgas=fgas,resolution = resolution)\n",
    "        print('v_c=%d, R_sonic=%.1f, Z=%.2f, f_gas=%.1f'%(vc.value,Rsonic.value,Z,fgas))\n",
    "        instance.calc_CF_solution(pr=True,tol=1e-8)\n",
    "        if instance.CF_solution!=None:\n",
    "            log_nH = log(instance.CF_solution.nHs()[instance.CF_solution.Rs()>Rcirc][0].value)\n",
    "            print(' log nH(10 kpc)=%.2f, Mdot=%.3f'%(log_nH,instance.CF_solution.Mdot.value))\n",
    "            instance.create_output_files()\n",
    "        print('')"
   ]
  },
  {
   "cell_type": "markdown",
   "metadata": {},
   "source": [
    "# plot ICs"
   ]
  },
  {
   "cell_type": "code",
   "execution_count": 10,
   "metadata": {},
   "outputs": [],
   "source": [
    "import h5py, scipy, scipy.stats, pylab as pl\n",
    "from astropy import units as un, constants as cons\n",
    "%matplotlib inline\n",
    "# instance = instances[0]\n",
    "instance = fiducial #for Nadav's sims\n",
    "init_snapshot_fn = instance.outdirname()+'/init_snapshot.hdf5'\n",
    "init_snapshot = h5py.File(init_snapshot_fn,'r')"
   ]
  },
  {
   "cell_type": "code",
   "execution_count": 11,
   "metadata": {},
   "outputs": [],
   "source": [
    "# disk only gas\n",
    "snap = ics.gsr.Snapshot(instance.makedisk_filename())\n",
    "coords = snap.SnapshotData['pos'][0]\n",
    "energies = snap.SnapshotData['energies']\n",
    "inds = (coords[:,1]<25) & (coords[:,1]>-25)\n",
    "Xs = coords[:,0][inds]\n",
    "Ys = coords[:,2][inds]\n",
    "# vals = None #for counting stars\n",
    "vals = energies[inds] * (un.km**2/un.s**2 * cons.m_p / cons.k_B).to('K').value * (2./3* 0.62) "
   ]
  },
  {
   "cell_type": "code",
   "execution_count": 12,
   "metadata": {},
   "outputs": [],
   "source": [
    "# all gas\n",
    "coords = init_snapshot['PartType0']['Coordinates']\n",
    "vels = init_snapshot['PartType0']['Velocities']\n",
    "inds = (coords[:,1]<5) & (coords[:,1]>-5)\n",
    "Xs = coords[:,0][inds]\n",
    "Zs = coords[:,2][inds]\n",
    "# vals = None #for counting stars\n",
    "# vals = init_snapshot['PartType0']['InternalEnergy'][inds] * (un.km**2/un.s**2 * cons.m_p / cons.k_B).to('K').value * (2./3* 0.62) \n",
    "phis = np.arctan2(vels[:,1][inds],vels[:,0][inds])"
   ]
  },
  {
   "cell_type": "code",
   "execution_count": 13,
   "metadata": {},
   "outputs": [],
   "source": [
    "bins = (np.arange(-50,50,5),np.arange(-50,50,5))\n",
    "m,x,y,_ = scipy.stats.binned_statistic_2d(Xs,\n",
    "                                         Zs,\n",
    "                                         vels[:,1][inds],\n",
    "                                         statistic='median',\n",
    "                                         bins=bins)\n",
    "x = (x[1:]+x[:-1])/2; y = (y[1:]+y[:-1])/2; "
   ]
  },
  {
   "cell_type": "code",
   "execution_count": 14,
   "metadata": {},
   "outputs": [
    {
     "data": {
      "text/plain": [
       "Text(0.5, 1.0, 'all gas')"
      ]
     },
     "execution_count": 14,
     "metadata": {},
     "output_type": "execute_result"
    },
    {
     "data": {
      "image/png": "[encoded data removed]",
      "text/plain": [
       "<Figure size 432x288 with 2 Axes>"
      ]
     },
     "metadata": {
      "needs_background": "light"
     },
     "output_type": "display_data"
    }
   ],
   "source": [
    "pl.pcolormesh(x,y,m.T)\n",
    "pl.colorbar(label = 'v_phi')\n",
    "pl.xlabel('x [kpc]'); pl.ylabel('z [kpc]')\n",
    "pl.title('all gas')\n",
    "# pl.savefig(KY_path+'../figures/ICs_allgas_vphi.pdf')"
   ]
  },
  {
   "cell_type": "code",
   "execution_count": 44,
   "metadata": {},
   "outputs": [
    {
     "data": {
      "text/plain": [
       "array([0.09798695, 0.75389211, 0.99910938, 0.46913977, 0.96567298])"
      ]
     },
     "execution_count": 44,
     "metadata": {},
     "output_type": "execute_result"
    }
   ],
   "source": [
    "np.sin(np.arccos(np.random.random_sample(5) * 2 - 1))"
   ]
  },
  {
   "cell_type": "code",
   "execution_count": 32,
   "metadata": {},
   "outputs": [
    {
     "data": {
      "text/plain": [
       "Text(0.5, 1.0, 'all gas')"
      ]
     },
     "execution_count": 32,
     "metadata": {},
     "output_type": "execute_result"
    },
    {
     "data": {
      "image/png": "[encoded data removed]",
      "text/plain": [
       "<Figure size 432x288 with 2 Axes>"
      ]
     },
     "metadata": {
      "needs_background": "light"
     },
     "output_type": "display_data"
    }
   ],
   "source": [
    "pl.pcolormesh(x,y,m.T)\n",
    "pl.colorbar(label = 'log T/K')\n",
    "pl.xlabel('x [kpc]'); pl.ylabel('z [kpc]')\n",
    "pl.title('all gas')\n",
    "# pl.savefig(KY_path+'../figures/ICs_allgas_temperature.pdf')"
   ]
  },
  {
   "cell_type": "code",
   "execution_count": 25,
   "metadata": {},
   "outputs": [],
   "source": [
    "bins = (np.arange(-25,25,0.25),np.arange(-2.5,2.5,0.025))\n",
    "m,x,y,_ = scipy.stats.binned_statistic_2d(Xs,\n",
    "                                         Ys,\n",
    "                                         None,\n",
    "                                         statistic='count',\n",
    "                                         bins=bins)\n",
    "x = (x[1:]+x[:-1])/2; y = (y[1:]+y[:-1])/2; "
   ]
  },
  {
   "cell_type": "code",
   "execution_count": 26,
   "metadata": {},
   "outputs": [
    {
     "data": {
      "image/png": "[encoded data removed]",
      "text/plain": [
       "<Figure size 432x288 with 2 Axes>"
      ]
     },
     "metadata": {
      "needs_background": "light"
     },
     "output_type": "display_data"
    }
   ],
   "source": [
    "pl.pcolormesh(x,y,m.T)\n",
    "pl.colorbar(label = 'number of gas particles')\n",
    "pl.xlabel('x [kpc]'); pl.ylabel('z [kpc]')\n",
    "pl.title('gas -- disk only')\n",
    "pl.savefig(KY_path+'../figures/ICs_gas_temperature.pdf')"
   ]
  },
  {
   "cell_type": "code",
   "execution_count": 19,
   "metadata": {},
   "outputs": [],
   "source": [
    "coords = init_snapshot['PartType2']['Coordinates']\n",
    "inds = (coords[:,1]<25) & (coords[:,1]>-25)\n",
    "Xs = coords[:,0][inds]\n",
    "Ys = coords[:,2][inds]"
   ]
  },
  {
   "cell_type": "code",
   "execution_count": 20,
   "metadata": {},
   "outputs": [],
   "source": [
    "bins = (np.arange(-25,25,0.25),np.arange(-2.5,2.5,0.025))\n",
    "m,x,y,_ = scipy.stats.binned_statistic_2d(Xs,\n",
    "                                         Ys,\n",
    "                                         None,\n",
    "                                         statistic='count',\n",
    "                                         bins=bins)\n",
    "x = (x[1:]+x[:-1])/2; y = (y[1:]+y[:-1])/2; "
   ]
  },
  {
   "cell_type": "code",
   "execution_count": 22,
   "metadata": {},
   "outputs": [
    {
     "data": {
      "image/png": "[encoded data removed]",
      "text/plain": [
       "<Figure size 432x288 with 2 Axes>"
      ]
     },
     "metadata": {
      "needs_background": "light"
     },
     "output_type": "display_data"
    }
   ],
   "source": [
    "pl.pcolormesh(x,y,m.T)\n",
    "pl.colorbar(label = 'number of star particles per 0.25kpc x 0.025kpc')\n",
    "pl.xlabel('x [kpc]'); pl.ylabel('z [kpc]')\n",
    "pl.title('stars')\n",
    "pl.savefig(KY_path+'../figures/stellar_locations.pdf')"
   ]
  },
  {
   "cell_type": "code",
   "execution_count": 12,
   "metadata": {},
   "outputs": [
    {
     "name": "stdout",
     "output_type": "stream",
     "text": [
      "(250037, 3)\n",
      "(0, 3)\n",
      "(500000, 3)\n",
      "(10000, 3)\n",
      "(0, 3)\n"
     ]
    }
   ],
   "source": [
    "for i in range(5):\n",
    "    print(init_snapshot['PartType%d'%i]['Coordinates'].shape)"
   ]
  },
  {
   "cell_type": "code",
   "execution_count": null,
   "metadata": {},
   "outputs": [],
   "source": [
    "import FIRE_files as ff\n",
    "import first_pass as l\n",
    "logT_projected = l.SnapshotProjection(snapshot, log(snapshot.Ts()),\n",
    "     edge_on=True,r_max=100,width=100,\n",
    "    fn='%s_%d_T_edge_on'%(sim,iSnapshot))\n",
    "res = logT_projected.project()\n",
    "label = r'temperature $[{\\rm K}]$'\n",
    "cmap = 'RdBu_r'; cbar_range = 1e3,1e6; ticks = [1e3,1e4,1e5,1e6]; ticklabels = [r'$10^3$',r'$10^4$',r'$10^5$',r'$10^6$']\n",
    "pl.pcolormesh(res[0],res[0],10.**res[2].T,vmin=cbar_range[0],vmax=cbar_range[1],cmap=cmap,\n",
    "              norm=matplotlib.colors.LogNorm(*cbar_range))\n",
    "\n"
   ]
  },
  {
   "cell_type": "code",
   "execution_count": null,
   "metadata": {},
   "outputs": [],
   "source": []
  },
  {
   "cell_type": "code",
   "execution_count": null,
   "metadata": {},
   "outputs": [],
   "source": [
    "self = base_instance\n",
    "ics.Rmax=4000*un.kpc\n",
    "ics.CF.shoot_from_sonic_point(self.potential,\n",
    "                                        self.cooling,\n",
    "                                        self.Rsonic,\n",
    "                                        self.R_max,self.R_min,max_step=self.max_step,\n",
    "                                        pr=True,return_all_results=True)"
   ]
  },
  {
   "cell_type": "code",
   "execution_count": 6,
   "metadata": {},
   "outputs": [
    {
     "data": {
      "image/png": "[encoded data removed]",
      "text/plain": [
       "<Figure size 432x288 with 1 Axes>"
      ]
     },
     "metadata": {
      "needs_background": "light"
     },
     "output_type": "display_data"
    }
   ],
   "source": [
    "import pylab as pl\n",
    "pl.loglog(instance.CF_solution.Rs(),instance.CF_solution.nHs())\n",
    "pl.ion()"
   ]
  },
  {
   "cell_type": "markdown",
   "metadata": {},
   "source": [
    "### MHD calculation 'MHD_subsonic_no_feedback12'"
   ]
  },
  {
   "cell_type": "code",
   "execution_count": 3,
   "metadata": {},
   "outputs": [
    {
     "name": "stdout",
     "output_type": "stream",
     "text": [
      "v_c=200, R_sonic=0.1, Z=1.00, log nH(Rcirc)=-1.79, Mdot=0.346\n",
      "R_circ=1 kpc, 2r(t_cool=10Gyr) = 119 kpc, r(t_sc=20Gyr) = 3160 kpc\n",
      "Part0 num=533280, w/o CGM=1000, |<r>|=0.3, |<v>|=0.0, <j>=-0.0 0.0 199.7,Ms: 2e+04 2e+04 6e+04... 1.2e+09\n",
      "Part2 num=5000, |<r>|=0.0, |<v>|=3.2, <j>=-0.0 -0.1 101.9,Ms: 2e+04\n",
      "Part3 num=1000, |<r>|=0.1, |<v>|=2.2, <j>=-3.5 7.0 11.7,Ms: 2e+04\n",
      "Part5 num=1, |<r>|=0.0, |<v>|=0.0, <j>=0.0 0.0 0.0,Ms: 2e+06\n",
      "\n"
     ]
    }
   ],
   "source": [
    "Rcircs = np.array([1])*un.kpc\n",
    "Rsonics = np.array([0.1])*un.kpc\n",
    "vcs = np.array([200])*un.km/un.s\n",
    "Zs = np.array([1])\n",
    "smallGalaxy = True\n",
    "resolution = 2e4\n",
    "#for constant Rsonic, Rcool scales as v_c^{2/3} Z^0\n",
    "ics.ICs.R_min = 0.03*un.kpc\n",
    "for vc in vcs[:]:    \n",
    "    for Rsonic in Rsonics[:]:\n",
    "        for Z in Zs[:]:\n",
    "            base_instance = ics.ICs(vc,Rcircs[0],Rsonic,Z,smallGalaxy=smallGalaxy,resolution=resolution)\n",
    "            print('v_c=%d, R_sonic=%.1f, Z=%.2f'%(vc.value,Rsonic.value,Z),end=',')\n",
    "            base_instance.calc_CF_solution(pr=False)\n",
    "            if base_instance.CF_solution!=None:\n",
    "                log_nH = log(base_instance.CF_solution.nHs()[base_instance.CF_solution.Rs()>Rcircs[0]][0].value)\n",
    "                print(' log nH(Rcirc)=%.2f, Mdot=%.3f'%(log_nH,base_instance.CF_solution.Mdot.value))\n",
    "                for Rcirc in Rcircs[:]:\n",
    "                    print('R_circ=%d kpc'%Rcirc.value,end=',')\n",
    "                    instance = ics.ICs(ics=base_instance)\n",
    "                    instance.Rcirc = Rcirc\n",
    "                    instance.create_output_files(Rres2Rcool=2)\n",
    "            print('')            "
   ]
  },
  {
   "cell_type": "code",
   "execution_count": 4,
   "metadata": {},
   "outputs": [
    {
     "data": {
      "text/latex": [
       "$84.545762 \\; \\mathrm{}$"
      ],
      "text/plain": [
       "<Quantity 84.54576202>"
      ]
     },
     "execution_count": 4,
     "metadata": {},
     "output_type": "execute_result"
    }
   ],
   "source": [
    "Rcirc = Rcirc\n",
    "(4*np.pi*Rcirc**3 / 3. * 10**log_nH *un.cm**-3 * cons.m_p).to('Msun') / (resolution*un.Msun)"
   ]
  },
  {
   "cell_type": "markdown",
   "metadata": {},
   "source": [
    "### for Nadav's cooling flow calculations"
   ]
  },
  {
   "cell_type": "code",
   "execution_count": 3,
   "metadata": {},
   "outputs": [],
   "source": [
    "fiducial = ics.ICs(vc=200*un.km/un.s,\n",
    "                   Rcirc=10*un.kpc,\n",
    "                    Rsonic=0.2*un.kpc,\n",
    "                   resolution = 1e4*un.Msun,\n",
    "                    Z_CGM=0.1,fgas=0.2)"
   ]
  },
  {
   "cell_type": "code",
   "execution_count": 4,
   "metadata": {
    "scrolled": true
   },
   "outputs": [
    {
     "name": "stdout",
     "output_type": "stream",
     "text": [
      "Integrated with v_c^2/c_s^2 (R_sonic) =1.000010;  maximum r=4 kpc; stop reason: unbound\n",
      "Integrated with v_c^2/c_s^2 (R_sonic) =1.500005;  no transsonic solutions\n",
      "Integrated with v_c^2/c_s^2 (R_sonic) =1.250008;  maximum r=2 kpc; stop reason: sonic point\n",
      "Integrated with v_c^2/c_s^2 (R_sonic) =1.125009;  maximum r=21 kpc; stop reason: unbound\n",
      "Integrated with v_c^2/c_s^2 (R_sonic) =1.187508;  maximum r=156 kpc; stop reason: sonic point\n",
      "Integrated with v_c^2/c_s^2 (R_sonic) =1.156258;  maximum r=57 kpc; stop reason: unbound\n",
      "Integrated with v_c^2/c_s^2 (R_sonic) =1.171883;  maximum r=170 kpc; stop reason: unbound\n",
      "Integrated with v_c^2/c_s^2 (R_sonic) =1.179696;  maximum r=839 kpc; stop reason: unbound\n",
      "Integrated with v_c^2/c_s^2 (R_sonic) =1.183602;  maximum r=725 kpc; stop reason: sonic point\n",
      "Integrated with v_c^2/c_s^2 (R_sonic) =1.181649;  maximum r=8813 kpc; stop reason: unbound\n",
      "Integrated with v_c^2/c_s^2 (R_sonic) =1.182625;  maximum r=1606 kpc; stop reason: sonic point\n",
      "Integrated with v_c^2/c_s^2 (R_sonic) =1.182137;  maximum r=3056 kpc; stop reason: sonic point\n",
      "Integrated with v_c^2/c_s^2 (R_sonic) =1.181893;  maximum r=5112 kpc; stop reason: sonic point\n",
      "Integrated with v_c^2/c_s^2 (R_sonic) =1.181771;  maximum r=7812 kpc; stop reason: sonic point\n",
      "Integrated with v_c^2/c_s^2 (R_sonic) =1.181710;  maximum r=10000 kpc; stop reason: max R reached\n",
      "Inward integration of supersonic part reached r = 0.200 kpc\n",
      "log nH(10 kpc)=-2.33, Mdot=4.847\n"
     ]
    }
   ],
   "source": [
    "fiducial.calc_CF_solution(pr=True)\n",
    "ind = (fiducial.CF_solution.Rs()>10*un.kpc).nonzero()[0][0]\n",
    "log_nH = log(fiducial.CF_solution.nHs()[ind].value)\n",
    "print('log nH(10 kpc)=%.2f, Mdot=%.3f'%(log_nH,fiducial.CF_solution.Mdot.value))"
   ]
  },
  {
   "cell_type": "code",
   "execution_count": 5,
   "metadata": {},
   "outputs": [
    {
     "name": "stdout",
     "output_type": "stream",
     "text": [
      "../MakeDisk_wHalo_m11_lr/ICs/m11_no_halo_200_res1e4_fgas02.ic\n",
      " 1r(t_cool=10Gyr) = 83 kpc, r(t_sc=20Gyr) = 3248 kpc\n",
      "Part0 num=5444214, w/o CGM=200000, |<r>|=0.0, |<v>|=0.0, <j>=-0.1 0.0 1311.4,Ms: 1e+03 1e+04 3e+04... 1.8e+09\n",
      "Part2 num=1000000, |<r>|=0.0, |<v>|=0.2, <j>=0.0 0.0 1007.5,Ms: 1e+03\n",
      "Part3 num=20000, |<r>|=0.1, |<v>|=0.8, <j>=3.6 4.9 -4.2,Ms: 1e+04\n",
      "Part5 num=1, |<r>|=0.0, |<v>|=0.0, <j>=0.0 0.0 0.0,Ms: 2e+06\n"
     ]
    }
   ],
   "source": [
    "fiducial.create_output_files()"
   ]
  },
  {
   "cell_type": "code",
   "execution_count": 7,
   "metadata": {},
   "outputs": [],
   "source": [
    "import pylab as pl\n",
    "import matplotlib\n",
    "matplotlib.rcParams['mathtext.fontset'] = 'cm'\n",
    "matplotlib.rc('font', family='serif', size=10)\n",
    "matplotlib.rcParams['xtick.direction'] = 'in'\n",
    "matplotlib.rcParams['ytick.direction'] = 'in'\n",
    "matplotlib.rcParams['xtick.top'] = True\n",
    "matplotlib.rcParams['ytick.right'] = True\n",
    "fig_width_half = 3.4"
   ]
  },
  {
   "cell_type": "code",
   "execution_count": 10,
   "metadata": {},
   "outputs": [
    {
     "data": {
      "image/png": "[encoded data removed]",
      "text/plain": [
       "<Figure size 504x504 with 4 Axes>"
      ]
     },
     "metadata": {
      "needs_background": "light"
     },
     "output_type": "display_data"
    }
   ],
   "source": [
    "res = fiducial.CF_solution\n",
    "fig = pl.figure(figsize=(7,7))\n",
    "pl.subplots_adjust(hspace=0.3,wspace=0.4)\n",
    "for iPanel in range(4):\n",
    "    pl.subplot(2,2,iPanel+1)\n",
    "    if iPanel==0: ys = res.Ts()\n",
    "    if iPanel==1: ys = res.nHs()\n",
    "    if iPanel==2: ys = res.Ms()\n",
    "    if iPanel==3: ys = res.t_cools() / res.t_flows()\n",
    "    pl.loglog(res.Rs(),ys)\n",
    "    pl.xlim(0.02,300)\n",
    "    pl.xlabel(r'$r$ [kpc]')\n",
    "    if iPanel==0:\n",
    "        pl.ylabel(r'temperature [K]')\n",
    "        pl.ylim(1e4,3e6)\n",
    "    if iPanel==1: \n",
    "        pl.ylabel(r'hydrogen density [cm$^{-3}$]')\n",
    "        pl.ylim(0.5e-5,10)\n",
    "    if iPanel==2: \n",
    "        pl.ylabel(r'mach number')\n",
    "        pl.ylim(0.003,10)\n",
    "        pl.axhline(1.,c='.5',lw=0.5)\n",
    "    if iPanel==3: \n",
    "        pl.ylabel(r'$v_r / (r/t_{\\rm cool})$')\n",
    "        pl.ylim(0.03,3)\n",
    "        pl.axhline(1.,c='.5',lw=0.5)"
   ]
  },
  {
   "cell_type": "code",
   "execution_count": 5,
   "metadata": {},
   "outputs": [
    {
     "data": {
      "text/plain": [
       "(<Quantity 6.20716144>, <Quantity 1985567.89560105 K>, <Quantity 0.10851111>)"
      ]
     },
     "execution_count": 5,
     "metadata": {},
     "output_type": "execute_result"
    }
   ],
   "source": [
    "fiducial.CF_solution.tcool_to_tff()[ind].to(''), fiducial.CF_solution.Ts()[ind], fiducial.CF_solution.Ms()[ind]"
   ]
  },
  {
   "cell_type": "code",
   "execution_count": 6,
   "metadata": {},
   "outputs": [
    {
     "data": {
      "text/latex": [
       "$216683.46 \\; \\mathrm{}$"
      ],
      "text/plain": [
       "<Quantity 216683.45578499>"
      ]
     },
     "execution_count": 6,
     "metadata": {},
     "output_type": "execute_result"
    }
   ],
   "source": [
    "((fiducial.CF_solution.Mdot * fiducial.CF_solution.t_cools()[ind])/(fiducial.resolution)).to('')"
   ]
  },
  {
   "cell_type": "code",
   "execution_count": 7,
   "metadata": {},
   "outputs": [
    {
     "data": {
      "text/latex": [
       "$722.27819 \\; \\mathrm{}$"
      ],
      "text/plain": [
       "<Quantity 722.27818595>"
      ]
     },
     "execution_count": 7,
     "metadata": {},
     "output_type": "execute_result"
    }
   ],
   "source": [
    "_/30/10"
   ]
  },
  {
   "cell_type": "code",
   "execution_count": 8,
   "metadata": {},
   "outputs": [
    {
     "data": {
      "text/plain": [
       "0.576"
      ]
     },
     "execution_count": 8,
     "metadata": {},
     "output_type": "execute_result"
    }
   ],
   "source": [
    "6/2.5 * 24 / 100"
   ]
  },
  {
   "cell_type": "code",
   "execution_count": null,
   "metadata": {},
   "outputs": [],
   "source": [
    "((2e-3*un.cm**-3 *cons.m_p / 0.7 * 4*np.pi/3*(20**3-10**3)*un.kpc**3) / (1e4*un.Msun)).to('')"
   ]
  },
  {
   "cell_type": "code",
   "execution_count": null,
   "metadata": {},
   "outputs": [],
   "source": []
  }
 ],
 "metadata": {
  "kernelspec": {
   "display_name": "Python 3 (ipykernel)",
   "language": "python",
   "name": "python3"
  },
  "language_info": {
   "codemirror_mode": {
    "name": "ipython",
    "version": 3
   },
   "file_extension": ".py",
   "mimetype": "text/x-python",
   "name": "python",
   "nbconvert_exporter": "python",
   "pygments_lexer": "ipython3",
   "version": "3.9.7"
  }
 },
 "nbformat": 4,
 "nbformat_minor": 2
}

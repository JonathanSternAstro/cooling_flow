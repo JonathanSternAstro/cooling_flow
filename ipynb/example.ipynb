{
 "cells": [
  {
   "cell_type": "markdown",
   "metadata": {},
   "source": [
    "# The cooling_flow package"
   ]
  },
  {
   "cell_type": "markdown",
   "metadata": {},
   "source": [
    "In [Stern et al. (2019a)](http://ui.adsabs.harvard.edu/abs/2019MNRAS.488.2549S) and [Stern et al. (2019b)](https://arxiv.org/abs/1909.07402) we demonstrated that the volume-filling gas phase in dark matter halos converges onto a one-parameter family of solutions, assuming ongoing heating by feedback is negligible. \n",
    "The cooling_flow package derives these solutions by integrating the spherical, steady-state flow equations for radiatively-cooling gas in a constant background potential. These solutions can thus be useful for:\n",
    "* Estimating halo gas structure between feedback bursts or after feedback has died out at low redshift\n",
    "* As a benchmark for estimating the effects of feedback on halo gas in observations and simulations\n",
    "* Initial conditions for simulations of halo gas\n",
    "* Other systems with similar conditions, such as the center of elliptical galaxies (e.g. Quataert & Narayan 2000). \n",
    "\n",
    "The package integrates two types of solutions -- transonic solutions with an outer subsonic flow and an inner supersonic flow, and a purely subsonic flow which stalls at the radius of rotational support (the 'circularization radius'). Details of the methodology, physical motivation and reasoning behind these integrations are described in the above papers. Please send any questions or suggestions to jonathan.stern@northwestern.edu.\n",
    "\n",
    "_Jonathan Stern_"
   ]
  },
  {
   "cell_type": "markdown",
   "metadata": {},
   "source": [
    "## A. Installation\n",
    "* Download using `git clone https://jonathanstern@bitbucket.org/jonathanstern/cooling_flow.git`\n",
    "* After cloning, you can interactively walk through this Python notebook (e.g. `jupyter-lab example.ipynb`)\n",
    "* Required libraries: numpy, scipy, astropy"
   ]
  },
  {
   "cell_type": "markdown",
   "metadata": {},
   "source": [
    "## B. Integration"
   ]
  },
  {
   "cell_type": "code",
   "execution_count": 1,
   "metadata": {},
   "outputs": [],
   "source": [
    "from astropy import units as un, constants as cons\n",
    "import numpy as np\n",
    "import cooling_flow as CF"
   ]
  },
  {
   "cell_type": "markdown",
   "metadata": {},
   "source": [
    "#### 1. define potential"
   ]
  },
  {
   "cell_type": "code",
   "execution_count": 2,
   "metadata": {},
   "outputs": [],
   "source": [
    "# any class which inherits CF.Potential and implements the base class methods can be used as a potential\n",
    "# several examples are implemented in the module HaloPotential\n",
    "# this example initializes the potential to a power-law with v_c = 200*(r/R_vir)^-0.2\n",
    "import HaloPotential as Halo\n",
    "potential = Halo.PowerLaw(m=-0.1,vc_Rvir=200*un.km/un.s,Rvir=200*un.kpc)"
   ]
  },
  {
   "cell_type": "markdown",
   "metadata": {},
   "source": [
    "#### 2. define cooling function"
   ]
  },
  {
   "cell_type": "code",
   "execution_count": 4,
   "metadata": {},
   "outputs": [
    {
     "name": "stderr",
     "output_type": "stream",
     "text": [
      "/home/jonathan/Dropbox/jonathanmain/CGM/rapidCoolingCGM/published_pysrc/WiersmaCooling.py:53: RuntimeWarning: invalid value encountered in log10\n",
      "  vals = log(self.LAMBDA(X*un.K,Y*un.cm**-3).value)\n"
     ]
    }
   ],
   "source": [
    "# any class which inherits CF.Cooling and implements the base class methods can be used as cooling function\n",
    "# WiersmaCooling tables are implemented in the module WiersmaCooling (requires h5py)\n",
    "import WiersmaCooling as Cool\n",
    "Z2Zsun = 1/3.\n",
    "z = 0.\n",
    "cooling = Cool.Wiersma_Cooling(Z2Zsun,z)"
   ]
  },
  {
   "cell_type": "markdown",
   "metadata": {},
   "source": [
    "#### 3a. integrate transonic solution"
   ]
  },
  {
   "cell_type": "code",
   "execution_count": 4,
   "metadata": {},
   "outputs": [
    {
     "name": "stdout",
     "output_type": "stream",
     "text": [
      "R_sonic = 1.0 kpc\n",
      "Integrated with v_c^2/c_s^2 (R_sonic) =1.000010;  maximum r=3 kpc; stop reason: unbound\n",
      "Integrated with v_c^2/c_s^2 (R_sonic) =1.500005;  no transsonic solutions\n",
      "Integrated with v_c^2/c_s^2 (R_sonic) =1.250008;  maximum r=8 kpc; stop reason: unbound\n",
      "Integrated with v_c^2/c_s^2 (R_sonic) =1.375006;  maximum r=108 kpc; stop reason: unbound\n",
      "Integrated with v_c^2/c_s^2 (R_sonic) =1.437506;  no transsonic solutions\n",
      "Integrated with v_c^2/c_s^2 (R_sonic) =1.406256;  maximum r=3 kpc; stop reason: sonic point\n",
      "Integrated with v_c^2/c_s^2 (R_sonic) =1.390631;  maximum r=35 kpc; stop reason: sonic point\n",
      "Integrated with v_c^2/c_s^2 (R_sonic) =1.382819;  maximum r=291 kpc; stop reason: unbound\n",
      "Integrated with v_c^2/c_s^2 (R_sonic) =1.386725;  maximum r=1999 kpc; stop reason: max R reached\n",
      "Inward integration of supersonic part reached r = 0.180 kpc\n",
      "R_sonic = 30.0 kpc\n",
      "Integrated with v_c^2/c_s^2 (R_sonic) =1.000010;  maximum r=82 kpc; stop reason: unbound\n",
      "Integrated with v_c^2/c_s^2 (R_sonic) =1.500005;  no transsonic solutions\n",
      "Integrated with v_c^2/c_s^2 (R_sonic) =1.250008;  maximum r=244 kpc; stop reason: unbound\n",
      "Integrated with v_c^2/c_s^2 (R_sonic) =1.375006;  maximum r=1115 kpc; stop reason: unbound\n",
      "Integrated with v_c^2/c_s^2 (R_sonic) =1.437506;  no transsonic solutions\n",
      "Integrated with v_c^2/c_s^2 (R_sonic) =1.406256;  no transsonic solutions\n",
      "Integrated with v_c^2/c_s^2 (R_sonic) =1.390631;  maximum r=964 kpc; stop reason: sonic point\n",
      "Integrated with v_c^2/c_s^2 (R_sonic) =1.382819;  maximum r=1807 kpc; stop reason: unbound\n",
      "Integrated with v_c^2/c_s^2 (R_sonic) =1.386725;  maximum r=1999 kpc; stop reason: max R reached\n"
     ]
    },
    {
     "name": "stderr",
     "output_type": "stream",
     "text": [
      "/home/jonathan/miniconda3/lib/python3.7/site-packages/astropy/units/quantity.py:466: RuntimeWarning: divide by zero encountered in true_divide\n",
      "  result = super().__array_ufunc__(function, method, *arrays, **kwargs)\n",
      "/home/jonathan/miniconda3/lib/python3.7/site-packages/astropy/units/quantity.py:466: RuntimeWarning: invalid value encountered in add\n",
      "  result = super().__array_ufunc__(function, method, *arrays, **kwargs)\n"
     ]
    },
    {
     "name": "stdout",
     "output_type": "stream",
     "text": [
      "Inward integration of supersonic part reached r = 0.578 kpc\n"
     ]
    }
   ],
   "source": [
    "max_step = 0.1                         #lowest resolution of solution in ln(r)\n",
    "R_min    = 0.1*un.kpc                  #inner radius of supersonic part of solution\n",
    "R_max    = 10.*potential.Rvir          #outer radius of integration\n",
    "R_sonics  = np.array([1.,30.])*un.kpc  #sonic radii\n",
    "transsonic_solutions = []\n",
    "for R_sonic in R_sonics:\n",
    "    print('R_sonic = %s'%R_sonic)\n",
    "    transsonic_solutions.append(CF.shoot_from_sonic_point(potential,\n",
    "                                                    cooling,\n",
    "                                                    R_sonic,\n",
    "                                                    R_max,\n",
    "                                                    R_min,\n",
    "                                                    max_step=max_step,\n",
    "                                                    pr=True))\n",
    "                        "
   ]
  },
  {
   "cell_type": "markdown",
   "metadata": {},
   "source": [
    "#### 3b. integrate solution which stalls at circularization radius"
   ]
  },
  {
   "cell_type": "code",
   "execution_count": 7,
   "metadata": {},
   "outputs": [
    {
     "name": "stdout",
     "output_type": "stream",
     "text": [
      "Mdot = 1.0 solMass / yr\n"
     ]
    },
    {
     "name": "stderr",
     "output_type": "stream",
     "text": [
      "/home/jonathan/Dropbox/jonathanmain/CGM/rapidCoolingCGM/published_pysrc/cooling_flow.py:64: RuntimeWarning: overflow encountered in double_scalars\n",
      "  rho,T=e**ln_rho*un.g/un.cm**3, e**ln_T*un.K\n",
      "/home/jonathan/miniconda3/lib/python3.7/site-packages/astropy/units/quantity.py:466: RuntimeWarning: invalid value encountered in true_divide\n",
      "  result = super().__array_ufunc__(function, method, *arrays, **kwargs)\n",
      "/home/jonathan/miniconda3/lib/python3.7/site-packages/astropy/units/quantity.py:466: RuntimeWarning: divide by zero encountered in true_divide\n",
      "  result = super().__array_ufunc__(function, method, *arrays, **kwargs)\n",
      "/home/jonathan/Dropbox/jonathanmain/CGM/rapidCoolingCGM/published_pysrc/WiersmaCooling.py:59: RuntimeWarning: divide by zero encountered in log10\n",
      "  return self.f_Cooling((log(T.to('K').value), log(nH.to('cm**-3').value))) * un.erg*un.cm**3/un.s\n",
      "/home/jonathan/miniconda3/lib/python3.7/site-packages/scipy/interpolate/interpolate.py:2507: RuntimeWarning: invalid value encountered in add\n",
      "  values += np.asarray(self.values[edge_indices]) * weight[vslice]\n",
      "/home/jonathan/miniconda3/lib/python3.7/site-packages/astropy/units/quantity.py:466: RuntimeWarning: invalid value encountered in multiply\n",
      "  result = super().__array_ufunc__(function, method, *arrays, **kwargs)\n"
     ]
    },
    {
     "name": "stdout",
     "output_type": "stream",
     "text": [
      "Integrated with log T(R_circ)=4.50, maximum radius reached 19 kpc, stop reason: sonic point\n",
      "Integrated with log T(R_circ)=4.75, maximum radius reached 31 kpc, stop reason: sonic point\n",
      "Integrated with log T(R_circ)=4.88, maximum radius reached 50 kpc, stop reason: sonic point\n",
      "Integrated with log T(R_circ)=4.94, maximum radius reached 71 kpc, stop reason: sonic point\n",
      "Integrated with log T(R_circ)=4.97, maximum radius reached 87 kpc, stop reason: sonic point\n",
      "Integrated with log T(R_circ)=4.98, maximum radius reached 99 kpc, stop reason: sonic point\n",
      "Integrated with log T(R_circ)=4.99, maximum radius reached 105 kpc, stop reason: sonic point\n",
      "Integrated with log T(R_circ)=5.00, maximum radius reached 109 kpc, stop reason: sonic point\n",
      "Integrated with log T(R_circ)=5.00, maximum radius reached 110 kpc, stop reason: sonic point\n",
      "Integrated with log T(R_circ)=5.00, maximum radius reached 111 kpc, stop reason: sonic point\n",
      "Integrated with log T(R_circ)=5.00, maximum radius reached 112 kpc, stop reason: sonic point\n",
      "Integrated with log T(R_circ)=5.00, maximum radius reached 112 kpc, stop reason: sonic point\n",
      "Integrated with log T(R_circ)=5.00, maximum radius reached 112 kpc, stop reason: sonic point\n",
      "Integrated with log T(R_circ)=5.00, maximum radius reached 112 kpc, stop reason: sonic point\n",
      "Integrated with log T(R_circ)=5.00, maximum radius reached 112 kpc, stop reason: sonic point\n",
      "Integrated with log T(R_circ)=5.00, maximum radius reached 112 kpc, stop reason: sonic point\n",
      "Integrated with log T(R_circ)=5.00, maximum radius reached 112 kpc, stop reason: sonic point\n",
      "Integrated with log T(R_circ)=5.00, maximum radius reached 112 kpc, stop reason: sonic point\n",
      "Integrated with log T(R_circ)=5.00, maximum radius reached 112 kpc, stop reason: sonic point\n",
      "Integrated with log T(R_circ)=5.00, maximum radius reached 112 kpc, stop reason: sonic point\n",
      "no result reached maximum R, try rerunning with return_all_results=True and check intermediate solutions\n",
      "Mdot = 50.0 solMass / yr\n",
      "Integrated with log T(R_circ)=4.50, maximum radius reached 122 kpc, stop reason: unbound\n",
      "Integrated with log T(R_circ)=4.25, maximum radius reached 39 kpc, stop reason: sonic point\n",
      "Integrated with log T(R_circ)=4.38, maximum radius reached 687 kpc, stop reason: unbound\n",
      "Integrated with log T(R_circ)=4.31, maximum radius reached 154 kpc, stop reason: sonic point\n",
      "Integrated with log T(R_circ)=4.34, maximum radius reached 975 kpc, stop reason: sonic point\n",
      "Integrated with log T(R_circ)=4.36, maximum radius reached 1450 kpc, stop reason: unbound\n",
      "Integrated with log T(R_circ)=4.35, maximum radius reached 1999 kpc, stop reason: max R reached\n"
     ]
    }
   ],
   "source": [
    "max_step = 0.1                         #lowest resolution of solution in ln(r)\n",
    "R_circ = 0.05*potential.Rvir                # circularization radius\n",
    "R_max    = 10.*potential.Rvir          #outer radius of integration\n",
    "Mdots  = np.array([1.,50.])*un.Msun/un.yr  # mass inflow rates\n",
    "stalled_solutions = []\n",
    "for Mdot in Mdots:\n",
    "    print('Mdot = %s'%Mdot)\n",
    "    stalled_solutions.append( CF.shoot_from_R_circ(potential,\n",
    "                                                   cooling,\n",
    "                                                   R_circ,\n",
    "                                                   Mdot,\n",
    "                                                   R_max,\n",
    "                                                   max_step=max_step,\n",
    "                                                   pr=True))"
   ]
  },
  {
   "cell_type": "markdown",
   "metadata": {},
   "source": [
    "## C. Plotting"
   ]
  },
  {
   "cell_type": "code",
   "execution_count": 6,
   "metadata": {},
   "outputs": [],
   "source": [
    "import pylab as pl\n",
    "import matplotlib\n",
    "# some figure definitions\n",
    "matplotlib.rcParams['mathtext.fontset'] = 'cm'\n",
    "matplotlib.rc('font', family='serif', size=12)\n",
    "matplotlib.rcParams['xtick.direction'] = 'in'\n",
    "matplotlib.rcParams['ytick.direction'] = 'in'\n",
    "matplotlib.rcParams['xtick.top'] = True\n",
    "matplotlib.rcParams['ytick.right'] = True"
   ]
  },
  {
   "cell_type": "code",
   "execution_count": 7,
   "metadata": {},
   "outputs": [
    {
     "data": {
      "image/png": "[encoded data removed]",
      "text/plain": [
       "<Figure size 504x504 with 4 Axes>"
      ]
     },
     "metadata": {
      "needs_background": "light"
     },
     "output_type": "display_data"
    }
   ],
   "source": [
    "fig = pl.figure(figsize=(7,7))\n",
    "pl.subplots_adjust(hspace=0.4,wspace=0.5)\n",
    "for iPanel in range(4):\n",
    "    pl.subplot(2,2,iPanel+1)\n",
    "    for ires,res in enumerate(stalled_solutions+transsonic_solutions):\n",
    "        c= 'br'[ires//2]\n",
    "        ls = ('-','--')[ires%2]\n",
    "        label = r'$\\dot{M} = %d$'%res.Mdot.value\n",
    "        if iPanel==0: ys = res.Ts()\n",
    "        if iPanel==1: ys = res.nHs()\n",
    "        if iPanel==2: ys = res.Ms()\n",
    "        if iPanel==3: ys = res.t_cools() / res.t_flows()\n",
    "        pl.loglog(res.Rs(),ys,c=c,ls=ls,label=label)\n",
    "        pl.xlim(1,300)\n",
    "        pl.xlabel(r'$r$ [kpc]')\n",
    "        if iPanel==0:\n",
    "            pl.ylabel(r'temperature [K]')\n",
    "            pl.ylim(1e4,1e7)            \n",
    "        if iPanel==1: \n",
    "            pl.ylabel(r'hydrogen density [cm$^{-3}$]')\n",
    "            pl.ylim(1e-5,1)\n",
    "            pl.legend(loc='lower left',fontsize=10,handlelength=1.2)\n",
    "        if iPanel==2: \n",
    "            pl.ylabel(r'mach number')\n",
    "            pl.ylim(0.03,30)\n",
    "            pl.axhline(1.,c='.5',lw=0.5)\n",
    "        if iPanel==3: \n",
    "            pl.ylabel(r'$v_r / (r/t_{\\rm cool})$')\n",
    "            pl.ylim(0.03,30)\n",
    "            pl.axhline(1.,c='.5',lw=0.5)"
   ]
  }
 ],
 "metadata": {
  "kernelspec": {
   "display_name": "Python 3",
   "language": "python",
   "name": "python3"
  },
  "language_info": {
   "codemirror_mode": {
    "name": "ipython",
    "version": 3
   },
   "file_extension": ".py",
   "mimetype": "text/x-python",
   "name": "python",
   "nbconvert_exporter": "python",
   "pygments_lexer": "ipython3",
   "version": "3.7.3"
  }
 },
 "nbformat": 4,
 "nbformat_minor": 2
}
